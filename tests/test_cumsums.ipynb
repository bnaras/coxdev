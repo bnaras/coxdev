{
 "cells": [
  {
   "cell_type": "code",
   "execution_count": 30,
   "id": "08d22455",
   "metadata": {},
   "outputs": [],
   "source": [
    "import numpy as np\n",
    "import pandas as pd\n",
    "from coxdev import (CoxDeviance,\n",
    "                    _reversed_cumsums)\n",
    "\n",
    "from simulate import (simulate_df, \n",
    "                      all_combos,\n",
    "                      rng)"
   ]
  },
  {
   "cell_type": "code",
   "execution_count": 31,
   "id": "4e5ee69f",
   "metadata": {},
   "outputs": [
    {
     "data": {
      "text/html": [
       "<div>\n",
       "<style scoped>\n",
       "    .dataframe tbody tr th:only-of-type {\n",
       "        vertical-align: middle;\n",
       "    }\n",
       "\n",
       "    .dataframe tbody tr th {\n",
       "        vertical-align: top;\n",
       "    }\n",
       "\n",
       "    .dataframe thead th {\n",
       "        text-align: right;\n",
       "    }\n",
       "</style>\n",
       "<table border=\"1\" class=\"dataframe\">\n",
       "  <thead>\n",
       "    <tr style=\"text-align: right;\">\n",
       "      <th></th>\n",
       "      <th>start</th>\n",
       "      <th>event</th>\n",
       "      <th>status</th>\n",
       "    </tr>\n",
       "  </thead>\n",
       "  <tbody>\n",
       "    <tr>\n",
       "      <th>0</th>\n",
       "      <td>1.207244</td>\n",
       "      <td>1.972807</td>\n",
       "      <td>0</td>\n",
       "    </tr>\n",
       "    <tr>\n",
       "      <th>1</th>\n",
       "      <td>1.403160</td>\n",
       "      <td>2.563656</td>\n",
       "      <td>0</td>\n",
       "    </tr>\n",
       "    <tr>\n",
       "      <th>2</th>\n",
       "      <td>4.394491</td>\n",
       "      <td>8.654270</td>\n",
       "      <td>1</td>\n",
       "    </tr>\n",
       "    <tr>\n",
       "      <th>3</th>\n",
       "      <td>2.372759</td>\n",
       "      <td>4.019447</td>\n",
       "      <td>0</td>\n",
       "    </tr>\n",
       "    <tr>\n",
       "      <th>4</th>\n",
       "      <td>0.778747</td>\n",
       "      <td>2.149091</td>\n",
       "      <td>0</td>\n",
       "    </tr>\n",
       "    <tr>\n",
       "      <th>...</th>\n",
       "      <td>...</td>\n",
       "      <td>...</td>\n",
       "      <td>...</td>\n",
       "    </tr>\n",
       "    <tr>\n",
       "      <th>161</th>\n",
       "      <td>3.477170</td>\n",
       "      <td>4.039996</td>\n",
       "      <td>1</td>\n",
       "    </tr>\n",
       "    <tr>\n",
       "      <th>162</th>\n",
       "      <td>3.477170</td>\n",
       "      <td>7.153075</td>\n",
       "      <td>1</td>\n",
       "    </tr>\n",
       "    <tr>\n",
       "      <th>163</th>\n",
       "      <td>3.477170</td>\n",
       "      <td>4.627917</td>\n",
       "      <td>1</td>\n",
       "    </tr>\n",
       "    <tr>\n",
       "      <th>164</th>\n",
       "      <td>3.477170</td>\n",
       "      <td>4.178720</td>\n",
       "      <td>0</td>\n",
       "    </tr>\n",
       "    <tr>\n",
       "      <th>165</th>\n",
       "      <td>3.477170</td>\n",
       "      <td>4.351088</td>\n",
       "      <td>0</td>\n",
       "    </tr>\n",
       "  </tbody>\n",
       "</table>\n",
       "<p>166 rows × 3 columns</p>\n",
       "</div>"
      ],
      "text/plain": [
       "        start     event  status\n",
       "0    1.207244  1.972807       0\n",
       "1    1.403160  2.563656       0\n",
       "2    4.394491  8.654270       1\n",
       "3    2.372759  4.019447       0\n",
       "4    0.778747  2.149091       0\n",
       "..        ...       ...     ...\n",
       "161  3.477170  4.039996       1\n",
       "162  3.477170  7.153075       1\n",
       "163  3.477170  4.627917       1\n",
       "164  3.477170  4.178720       0\n",
       "165  3.477170  4.351088       0\n",
       "\n",
       "[166 rows x 3 columns]"
      ]
     },
     "execution_count": 31,
     "metadata": {},
     "output_type": "execute_result"
    }
   ],
   "source": [
    "data = simulate_df(all_combos[-1], nrep=3, size=4)\n",
    "data = data.reset_index().drop(columns='index')\n",
    "data"
   ]
  },
  {
   "cell_type": "code",
   "execution_count": 32,
   "id": "ece0e818-391e-49ea-bd8d-3618f715c986",
   "metadata": {},
   "outputs": [
    {
     "data": {
      "text/plain": [
       "0"
      ]
     },
     "execution_count": 32,
     "metadata": {},
     "output_type": "execute_result"
    }
   ],
   "source": [
    "cox = CoxDeviance(event=data['event'],\n",
    "                  start=data['start'],\n",
    "                  status=data['status'],\n",
    "                  tie_breaking='efron')\n",
    "(data['event'] < data['start']).sum()"
   ]
  },
  {
   "cell_type": "code",
   "execution_count": 33,
   "id": "9337ae29-c2ba-4966-ad65-e498a43ad434",
   "metadata": {},
   "outputs": [],
   "source": [
    "X = rng.standard_normal(data.shape[0])\n",
    "(X_event, \n",
    " X_start) = _reversed_cumsums(X, \n",
    "                              event_order=cox._event_order,\n",
    "                              start_order=cox._start_order)\n",
    "\n",
    "tmp = X_event[cox._first] - X_start[cox._event_map]\n",
    "cumsum_diff = np.zeros_like(tmp)\n",
    "cumsum_diff[cox._event_order] = tmp"
   ]
  },
  {
   "cell_type": "code",
   "execution_count": 34,
   "id": "b669f395-a10c-4875-a547-70bf997cf294",
   "metadata": {},
   "outputs": [],
   "source": [
    "by_hand = []\n",
    "for i in range(data.shape[0]):\n",
    "    val = X[(data['event'] >= data['event'].iloc[i]) & (data['start'] < data['event'].iloc[i])].sum()\n",
    "    by_hand.append(val)\n",
    "by_hand = np.array(by_hand)\n",
    "assert np.allclose(by_hand * np.array(data['status']), cumsum_diff * np.array(data['status']))"
   ]
  },
  {
   "cell_type": "code",
   "execution_count": null,
   "id": "7bd97b4c-e59f-406d-bedd-ab97bf6d7b86",
   "metadata": {},
   "outputs": [],
   "source": []
  }
 ],
 "metadata": {
  "jupytext": {
   "cell_metadata_filter": "-all",
   "formats": "ipynb,py:light",
   "main_language": "python"
  },
  "kernelspec": {
   "display_name": "Python 3 (ipykernel)",
   "language": "python",
   "name": "python3"
  },
  "language_info": {
   "codemirror_mode": {
    "name": "ipython",
    "version": 3
   },
   "file_extension": ".py",
   "mimetype": "text/x-python",
   "name": "python",
   "nbconvert_exporter": "python",
   "pygments_lexer": "ipython3",
   "version": "3.12.0"
  }
 },
 "nbformat": 4,
 "nbformat_minor": 5
}
