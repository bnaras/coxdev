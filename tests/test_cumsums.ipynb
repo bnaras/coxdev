{
 "cells": [
  {
   "cell_type": "code",
   "execution_count": 1,
   "id": "08d22455",
   "metadata": {},
   "outputs": [],
   "source": [
    "import numpy as np\n",
    "import pandas as pd\n",
    "from coxdev import (CoxDeviance,\n",
    "                    _reversed_cumsums)\n",
    "\n",
    "from simulate import (simulate_df, \n",
    "                      all_combos,\n",
    "                      rng)"
   ]
  },
  {
   "cell_type": "code",
   "execution_count": 19,
   "id": "4e5ee69f",
   "metadata": {},
   "outputs": [
    {
     "data": {
      "text/html": [
       "<div>\n",
       "<style scoped>\n",
       "    .dataframe tbody tr th:only-of-type {\n",
       "        vertical-align: middle;\n",
       "    }\n",
       "\n",
       "    .dataframe tbody tr th {\n",
       "        vertical-align: top;\n",
       "    }\n",
       "\n",
       "    .dataframe thead th {\n",
       "        text-align: right;\n",
       "    }\n",
       "</style>\n",
       "<table border=\"1\" class=\"dataframe\">\n",
       "  <thead>\n",
       "    <tr style=\"text-align: right;\">\n",
       "      <th></th>\n",
       "      <th>start</th>\n",
       "      <th>event</th>\n",
       "      <th>status</th>\n",
       "    </tr>\n",
       "  </thead>\n",
       "  <tbody>\n",
       "    <tr>\n",
       "      <th>0</th>\n",
       "      <td>1.301881</td>\n",
       "      <td>1.830246</td>\n",
       "      <td>1</td>\n",
       "    </tr>\n",
       "    <tr>\n",
       "      <th>1</th>\n",
       "      <td>1.423530</td>\n",
       "      <td>2.642750</td>\n",
       "      <td>1</td>\n",
       "    </tr>\n",
       "    <tr>\n",
       "      <th>2</th>\n",
       "      <td>0.766130</td>\n",
       "      <td>1.282122</td>\n",
       "      <td>0</td>\n",
       "    </tr>\n",
       "    <tr>\n",
       "      <th>3</th>\n",
       "      <td>4.038934</td>\n",
       "      <td>8.296885</td>\n",
       "      <td>0</td>\n",
       "    </tr>\n",
       "    <tr>\n",
       "      <th>4</th>\n",
       "      <td>0.942753</td>\n",
       "      <td>1.955512</td>\n",
       "      <td>0</td>\n",
       "    </tr>\n",
       "    <tr>\n",
       "      <th>...</th>\n",
       "      <td>...</td>\n",
       "      <td>...</td>\n",
       "      <td>...</td>\n",
       "    </tr>\n",
       "    <tr>\n",
       "      <th>167</th>\n",
       "      <td>2.503371</td>\n",
       "      <td>3.173360</td>\n",
       "      <td>0</td>\n",
       "    </tr>\n",
       "    <tr>\n",
       "      <th>168</th>\n",
       "      <td>2.523544</td>\n",
       "      <td>3.173360</td>\n",
       "      <td>0</td>\n",
       "    </tr>\n",
       "    <tr>\n",
       "      <th>169</th>\n",
       "      <td>3.173360</td>\n",
       "      <td>3.839091</td>\n",
       "      <td>0</td>\n",
       "    </tr>\n",
       "    <tr>\n",
       "      <th>170</th>\n",
       "      <td>3.173360</td>\n",
       "      <td>6.480528</td>\n",
       "      <td>0</td>\n",
       "    </tr>\n",
       "    <tr>\n",
       "      <th>171</th>\n",
       "      <td>3.173360</td>\n",
       "      <td>3.695970</td>\n",
       "      <td>0</td>\n",
       "    </tr>\n",
       "  </tbody>\n",
       "</table>\n",
       "<p>172 rows × 3 columns</p>\n",
       "</div>"
      ],
      "text/plain": [
       "        start     event  status\n",
       "0    1.301881  1.830246       1\n",
       "1    1.423530  2.642750       1\n",
       "2    0.766130  1.282122       0\n",
       "3    4.038934  8.296885       0\n",
       "4    0.942753  1.955512       0\n",
       "..        ...       ...     ...\n",
       "167  2.503371  3.173360       0\n",
       "168  2.523544  3.173360       0\n",
       "169  3.173360  3.839091       0\n",
       "170  3.173360  6.480528       0\n",
       "171  3.173360  3.695970       0\n",
       "\n",
       "[172 rows x 3 columns]"
      ]
     },
     "execution_count": 19,
     "metadata": {},
     "output_type": "execute_result"
    }
   ],
   "source": [
    "data = simulate_df(all_combos[-1], nrep=3, size=4)\n",
    "data = data.reset_index().drop(columns='index')\n",
    "data"
   ]
  },
  {
   "cell_type": "code",
   "execution_count": 20,
   "id": "ece0e818-391e-49ea-bd8d-3618f715c986",
   "metadata": {},
   "outputs": [
    {
     "data": {
      "text/plain": [
       "0"
      ]
     },
     "execution_count": 20,
     "metadata": {},
     "output_type": "execute_result"
    }
   ],
   "source": [
    "cox = CoxDeviance(event=data['event'],\n",
    "                  start=data['start'],\n",
    "                  status=data['status'],\n",
    "                  tie_breaking='efron')\n",
    "(data['event'] < data['start']).sum()"
   ]
  },
  {
   "cell_type": "code",
   "execution_count": 21,
   "id": "9337ae29-c2ba-4966-ad65-e498a43ad434",
   "metadata": {},
   "outputs": [],
   "source": [
    "X = rng.standard_normal(data.shape[0])\n",
    "(X_event, \n",
    " X_start) = _reversed_cumsums(X, \n",
    "                              event_order=cox._event_order,\n",
    "                              start_order=cox._start_order)\n",
    "\n",
    "tmp = X_event[cox._first] - X_start[cox._event_map]\n",
    "cumsum_diff = np.zeros_like(tmp)\n",
    "cumsum_diff[cox._event_order] = tmp"
   ]
  },
  {
   "cell_type": "code",
   "execution_count": 23,
   "id": "b669f395-a10c-4875-a547-70bf997cf294",
   "metadata": {},
   "outputs": [
    {
     "ename": "AssertionError",
     "evalue": "",
     "output_type": "error",
     "traceback": [
      "\u001b[0;31m---------------------------------------------------------------------------\u001b[0m",
      "\u001b[0;31mAssertionError\u001b[0m                            Traceback (most recent call last)",
      "Cell \u001b[0;32mIn[23], line 6\u001b[0m\n\u001b[1;32m      4\u001b[0m     by_hand\u001b[38;5;241m.\u001b[39mappend(val)\n\u001b[1;32m      5\u001b[0m by_hand \u001b[38;5;241m=\u001b[39m np\u001b[38;5;241m.\u001b[39marray(by_hand)\n\u001b[0;32m----> 6\u001b[0m \u001b[38;5;28;01massert\u001b[39;00m np\u001b[38;5;241m.\u001b[39mallclose(by_hand \u001b[38;5;241m*\u001b[39m np\u001b[38;5;241m.\u001b[39marray(data[\u001b[38;5;124m'\u001b[39m\u001b[38;5;124mstatus\u001b[39m\u001b[38;5;124m'\u001b[39m]), cumsum_diff \u001b[38;5;241m*\u001b[39m np\u001b[38;5;241m.\u001b[39marray(data[\u001b[38;5;124m'\u001b[39m\u001b[38;5;124mstatus\u001b[39m\u001b[38;5;124m'\u001b[39m]))\n",
      "\u001b[0;31mAssertionError\u001b[0m: "
     ]
    }
   ],
   "source": [
    "by_hand = []\n",
    "for i in range(data.shape[0]):\n",
    "    val = X[(data['event'] >= data['event'].iloc[i]) & (data['start'] < data['event'].iloc[i])].sum()\n",
    "    by_hand.append(val)\n",
    "by_hand = np.array(by_hand)\n",
    "assert np.allclose(by_hand * np.array(data['status']), cumsum_diff * np.array(data['status']))"
   ]
  },
  {
   "cell_type": "code",
   "execution_count": null,
   "id": "7bd97b4c-e59f-406d-bedd-ab97bf6d7b86",
   "metadata": {},
   "outputs": [],
   "source": []
  }
 ],
 "metadata": {
  "jupytext": {
   "cell_metadata_filter": "-all",
   "formats": "ipynb,py:light",
   "main_language": "python"
  },
  "kernelspec": {
   "display_name": "Python 3 (ipykernel)",
   "language": "python",
   "name": "python3"
  },
  "language_info": {
   "codemirror_mode": {
    "name": "ipython",
    "version": 3
   },
   "file_extension": ".py",
   "mimetype": "text/x-python",
   "name": "python",
   "nbconvert_exporter": "python",
   "pygments_lexer": "ipython3",
   "version": "3.12.0"
  }
 },
 "nbformat": 4,
 "nbformat_minor": 5
}
