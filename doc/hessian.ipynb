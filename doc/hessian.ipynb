{
 "cells": [
  {
   "cell_type": "code",
   "execution_count": 1,
   "id": "680ca89a-6a47-40fa-a8ad-6f9a935995c5",
   "metadata": {},
   "outputs": [],
   "source": [
    "import numpy as np\n",
    "import pandas as pd\n",
    "\n",
    "from coxdev import CoxDeviance\n",
    "                       "
   ]
  },
  {
   "cell_type": "markdown",
   "id": "050d367d-4e5a-4fab-86e0-903192515f83",
   "metadata": {},
   "source": [
    "# A small dataset (with ties)\n",
    "\n",
    "- Event times (or \"stop\" times) $t_i$.\n",
    "\n",
    "- Start times: $s_i$."
   ]
  },
  {
   "cell_type": "code",
   "execution_count": 2,
   "id": "92f38aa9-9f39-4679-b899-d0351fd49baf",
   "metadata": {},
   "outputs": [],
   "source": [
    "data_df = pd.read_csv('dataset.csv', index_col='index')[:20]\n",
    "data_df\n",
    "n = data_df.shape[0]"
   ]
  },
  {
   "cell_type": "markdown",
   "id": "58f9d95d",
   "metadata": {},
   "source": [
    "## Key sequences"
   ]
  },
  {
   "cell_type": "markdown",
   "id": "0fb73cb4",
   "metadata": {},
   "source": [
    "- `event_order`: sorts event times into increasing order (according to this joint sort)\n",
    "- `start_order`: sorts start times into increasing order (according to this joint sort)\n",
    "- `first`: for a failure time, which may have ties, this is the first entry of `event_order` in this set of ties -- the entries of `first` that are not failure times are not used, but they are defined consistently in that no ties of non-failure times are material to the computations.\n",
    "- `last`: analogous to `first` but the last time\n",
    "- `event_map`: for the $i$-th event time, this is the number of start times stricly less than this event time: $\\text{event\\_map}[i] = \\# \\{j: s_j < t_i\\}$.\n",
    "- `start_map`: for the $i$-th start time, this is the number of event times less than or equal to $s_i$:\n",
    "  $\\text{start\\_map}[i] = \\# \\{j: t_j \\leq s_i\\}$.\n",
    "- `first_start[i] = `first[start_map[i]]`: it seems that `first_start` is identical to `start_map`. Hmmm...."
   ]
  },
  {
   "cell_type": "code",
   "execution_count": null,
   "id": "2fc75d92",
   "metadata": {},
   "outputs": [],
   "source": [
    "from sympy import Symbol, Function, simplify, expand\n",
    "\n",
    "last_ = Function('last')\n",
    "start_ = Function('first_start')\n",
    "first_ = Function('first')\n",
    "k = Symbol('k')\n",
    "l = Symbol('l')\n",
    "s_E = Symbol('sigma_E')\n",
    "d_E = Symbol('delta_E')\n",
    "d_S = Symbol('delta_S')\n",
    "\n",
    "E_k = last_(k) - d_S * start_(k-1) - d_E * s_E * (last_(k) - first_(k-1))"
   ]
  },
  {
   "cell_type": "markdown",
   "id": "046f7c52-13f6-4230-9c4d-03f276b957cf",
   "metadata": {},
   "source": [
    "#### Off-diagonal Hessian entries\n",
    "\n",
    "We can similarly deduce how to evaluate off-diagonal entries of the Hessian, though\n",
    "we have not implemented all of these yet."
   ]
  },
  {
   "cell_type": "code",
   "execution_count": null,
   "id": "4f9629fe",
   "metadata": {},
   "outputs": [],
   "source": [
    "E_l = last_(l) - d_S * start_(l) - d_E * s_E * (last_(l) - first_(l-1))\n",
    "prod = expand(E_k * E_l)"
   ]
  },
  {
   "cell_type": "markdown",
   "id": "f16168ae-b249-4e26-90cb-4e6daf6d3ea8",
   "metadata": {},
   "source": [
    "## Breslow with start times\n",
    "\n"
   ]
  },
  {
   "cell_type": "code",
   "execution_count": null,
   "id": "25967cf5",
   "metadata": {},
   "outputs": [],
   "source": [
    "prod.subs(d_S, 1).subs(d_E, 0).as_ordered_terms()"
   ]
  },
  {
   "cell_type": "markdown",
   "id": "3135478b-bf2f-4d59-af55-9093a4f684ef",
   "metadata": {},
   "source": [
    "That is, the $(r,c)$ entry of the Hessian is\n",
    "$$\n",
    "-\\frac{\\partial^2}{\\partial \\eta_r \\partial \\eta_c}\\left[\\sum_{i=1}^n w_i d_i \\log(R_i(\\eta))\\right]\n",
    "$$\n",
    "This is\n",
    "$$\n",
    "w_kw_le^{\\eta_k+\\eta_l}\\sum_{i=1}^n \\frac{w_id_i}{R_i(\\eta)^2} \\left(1_{\\{i \\leq \\text{last}(k)\\}} - 1_{\\{i < \\text{first\\_start}(k)\\}} \\right)\\left(1_{\\{c \\geq \\text{first}(i)\\}} - 1_{\\{c > \\text{event\\_map}(i)\\}} \\right)\n",
    "$$"
   ]
  },
  {
   "cell_type": "markdown",
   "id": "a5878616-f4ee-4fb2-ab92-7cdad1345c07",
   "metadata": {},
   "source": [
    "Consider multiplication on the right by the vector $(\\zeta_c)_{1 \\leq c \\leq n}$.\n",
    "The $r$-th entry of the product is \n",
    "$$\n",
    "\\sum_{c=1}^n \\left[\\sum_{i=1}^n \\frac{1}{R_i(\\eta)^2} \\left(1_{\\{r \\geq \\text{first}(i)\\}} - 1_{\\{r > \\text{event\\_map}(i)\\}} \\right)\\left(1_{\\{c \\geq \\text{first}(i)\\}} - 1_{\\{c > \\text{event\\_map}(i)\\}} \\right) \\right] \\zeta_c\n",
    "$$"
   ]
  },
  {
   "cell_type": "markdown",
   "id": "12e92011-f979-43b8-bd22-b6b81c2b326f",
   "metadata": {},
   "source": [
    "Let's define the reversed cumsum (in start orderXXXXXXXXXXXXXX)\n",
    "$$\n",
    "{\\cal S}(\\zeta)[i] = \\sum_{j:j\\geq i} \\zeta_j, 1 \\leq i \\leq n.\n",
    "$$"
   ]
  },
  {
   "cell_type": "markdown",
   "id": "872621d1-dfb1-4400-8466-a9a18c3abb51",
   "metadata": {},
   "source": [
    "The $r$-th entry of the matrix vector product is\n",
    "$$\n",
    "\\sum_{i=1}^n \\frac{{\\cal S}(\\zeta)[\\text{first}(i)] - {\\cal S}(\\zeta)[\\text{event\\_map(i)}+1]}{R_i(\\eta)^2} \\left(1_{\\{r \\geq \\text{first}(i)\\}} - 1_{\\{r > \\text{event\\_map}(i)\\}} \\right)\n",
    "$$\n",
    "This is the vector `after_1st_cumsum` in the code."
   ]
  },
  {
   "cell_type": "markdown",
   "id": "03b99b07-114a-4626-95ef-455c255fd36d",
   "metadata": {},
   "source": [
    "So, the $r$-th entry of the product can be expressed in terms of the cumsums of\n",
    "the sequence\n",
    "$$\n",
    "i \\mapsto \\frac{{\\cal S}(\\zeta)[\\text{first}(i)] - {\\cal S}(\\zeta)[\\text{event\\_map(i)}+1]}{R_i(\\eta)^2}.\n",
    "\\overset{def}{=} G(\\zeta,\\eta, \\delta_E=0)[i] \\qquad (*) $$\n",
    "Specifically, the $r$-th entry is the difference between the $\\text{last}(r)$-th cumsum and \n",
    "$\\text{start\\_map}(i)-1$-st entry. The name of the variable used for this is `cumsum_2nd`.\n",
    "\n",
    "Computing the sequence costs a reverse cumsum and then lookup. Completing the product requires\n",
    "another cumsum and lookup."
   ]
  },
  {
   "cell_type": "markdown",
   "id": "474688de-99b9-406c-bb19-35c03313a99e",
   "metadata": {},
   "source": [
    "## Efron\n",
    "\n",
    "It will be similar, but a little more tedious. First, there will be four terms in the\n",
    "sequence analogous to $(*)$.\n",
    "There will then be 4 different entries of the basic reversed cumsum.\n",
    " Set \n",
    "$$\n",
    "\\delta_E = \\begin{cases} 0 & \\text{Breslow} \\\\ 1 & \\text{Efron} \\end{cases}.\n",
    "$$"
   ]
  },
  {
   "cell_type": "markdown",
   "id": "7ed6afc2-d667-4ef5-9d11-fdb2c3165d29",
   "metadata": {},
   "source": [
    "The analog of $(*)$ when $\\delta_E=1$ is\n",
    "$$\n",
    "i \\mapsto \\frac{{\\cal S}(\\zeta)[\\text{first}(i)] - {\\cal S}(\\zeta)[\\text{event\\_map(i)}+1] -  \\sigma_i \\cdot\\left({\\cal S}(\\zeta)[\\text{first}(i)] - {\\cal S}(\\zeta)[\\text{last}(i)+1]\\right)}{R_i(\\eta)^2} \\qquad (**)$$.\n",
    "\n",
    "We see, then, that in either case we compute the reversed cumsum of\n",
    "$$\n",
    "i \\mapsto \\frac{{\\cal S}(\\zeta)[\\text{first}(i)] - {\\cal S}(\\zeta)[\\text{event\\_map(i)}+1] - \\delta_E \\cdot \\sigma_i \\cdot\\left({\\cal S}(\\zeta)[\\text{first}(i)] - {\\cal S}(\\zeta)[\\text{last}(i)+1]\\right)}{R_i(\\eta)^2}  \\overset{def}{=} G(\\eta,\\zeta,\\delta_E)[i].\n",
    "$$\n",
    "\n",
    "We see that Breslow indeed uses $G(\\eta,\\zeta,0)$. Its cost (besides the copy) is requires the same reversed cumsum as Breslow. \n",
    "\n",
    "Having formed this sequence `cumsum_2nd_0` in the code, the Efron version will again use the cumsums (of \n",
    "$G(\\eta, \\zeta,1)$ instead of $G(\\eta,\\zeta,0)$) but there is another cumsum needed, namely \n",
    "$$\n",
    "i \\mapsto \\sigma_E(i) \\cdot G(\\eta,\\zeta,1)[i].\n",
    "$$\n",
    "This is called `cumsum_2nd_1` in the code."
   ]
  },
  {
   "cell_type": "markdown",
   "id": "bec504ec-c24e-4c9e-ae0f-51a43488bcc5",
   "metadata": {},
   "source": [
    "Why another cumsum? Well, having defined $G(\\eta,\\zeta,\\delta)$ we can see that, in the \n",
    "Efron case, the $r$-th entry of the product is\n",
    "$$\n",
    "\\sum_{i=1}^n G(\\eta,\\zeta,1)[i] \\left(1_{\\{r \\geq \\text{first}(i)\\}} - 1_{\\{r > \\text{event\\_map}(i)\\}} - \\sigma_E(i) \\cdot  \\left( 1_{\\{i \\leq  \\text{last}(r)\\}} - 1_{\\{i \\leq \\text{first}(r)-1\\}}\\right) \\right)\n",
    "$$"
   ]
  },
  {
   "cell_type": "markdown",
   "id": "8a9255ef-8fd9-4536-bb61-8f2eab662295",
   "metadata": {},
   "source": [
    "This can be expressed in terms of the cumsums of the sequences\n",
    "$$\n",
    "\\left(G(\\eta,\\zeta,1)[i] \\right)_{1 \\leq i \\leq n}, \\qquad \\left(\\sigma_E(i) \\cdot G(\\eta,\\zeta,1)[i] \\right)_{1 \\leq i \\leq n}\n",
    "$$"
   ]
  },
  {
   "cell_type": "code",
   "execution_count": null,
   "id": "e8194ef0-9250-48f3-be54-9333d96afd6a",
   "metadata": {},
   "outputs": [],
   "source": []
  }
 ],
 "metadata": {
  "jupytext": {
   "formats": "ipynb,md:myst"
  },
  "kernelspec": {
   "display_name": "Python 3 (ipykernel)",
   "language": "python",
   "name": "python3"
  },
  "language_info": {
   "codemirror_mode": {
    "name": "ipython",
    "version": 3
   },
   "file_extension": ".py",
   "mimetype": "text/x-python",
   "name": "python",
   "nbconvert_exporter": "python",
   "pygments_lexer": "ipython3",
   "version": "3.10.12"
  }
 },
 "nbformat": 4,
 "nbformat_minor": 5
}
