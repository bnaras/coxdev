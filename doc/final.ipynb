{
 "cells": [
  {
   "cell_type": "code",
   "execution_count": 283,
   "id": "680ca89a-6a47-40fa-a8ad-6f9a935995c5",
   "metadata": {},
   "outputs": [],
   "source": [
    "import numpy as np\n",
    "import pandas as pd\n",
    "import inspect\n",
    "\n",
    "from coxdev import (_cox_dev,\n",
    "                    _compute_sat_loglik,\n",
    "                    _preprocess)\n",
    "from coxdev import CoxDeviance\n",
    "                       "
   ]
  },
  {
   "cell_type": "markdown",
   "id": "050d367d-4e5a-4fab-86e0-903192515f83",
   "metadata": {},
   "source": [
    "# A small dataset (with ties)\n",
    "\n",
    "- Event times (or \"stop\" times) $t_i$.\n",
    "\n",
    "- Start times: $s_i$."
   ]
  },
  {
   "cell_type": "code",
   "execution_count": 284,
   "id": "92f38aa9-9f39-4679-b899-d0351fd49baf",
   "metadata": {},
   "outputs": [],
   "source": [
    "data_df = pd.read_csv('dataset.csv', index_col='index')[:20]\n",
    "data_df\n",
    "n = data_df.shape[0]"
   ]
  },
  {
   "cell_type": "markdown",
   "id": "ef175b2f-5dd5-4c8b-b4b7-8ca400d78132",
   "metadata": {},
   "source": [
    "## Key sequences\n",
    "\n",
    "We will jointly sort `start` and `event` by stacking the times into\n",
    "a data frame with 60 rows instead of 30.\n",
    "\n",
    "We will sort this on `(time, status, is_start)` with `status==1` occurring before\n",
    "`status==0`."
   ]
  },
  {
   "cell_type": "code",
   "execution_count": 285,
   "id": "137f792c-fef5-4715-9ed8-9e536c4eaa1d",
   "metadata": {},
   "outputs": [
    {
     "data": {
      "text/html": [
       "<div>\n",
       "<style scoped>\n",
       "    .dataframe tbody tr th:only-of-type {\n",
       "        vertical-align: middle;\n",
       "    }\n",
       "\n",
       "    .dataframe tbody tr th {\n",
       "        vertical-align: top;\n",
       "    }\n",
       "\n",
       "    .dataframe thead th {\n",
       "        text-align: right;\n",
       "    }\n",
       "</style>\n",
       "<table border=\"1\" class=\"dataframe\">\n",
       "  <thead>\n",
       "    <tr style=\"text-align: right;\">\n",
       "      <th></th>\n",
       "      <th>time</th>\n",
       "      <th>status</th>\n",
       "      <th>is_start</th>\n",
       "      <th>index</th>\n",
       "    </tr>\n",
       "  </thead>\n",
       "  <tbody>\n",
       "    <tr>\n",
       "      <th>0</th>\n",
       "      <td>1</td>\n",
       "      <td>0</td>\n",
       "      <td>1</td>\n",
       "      <td>0</td>\n",
       "    </tr>\n",
       "    <tr>\n",
       "      <th>1</th>\n",
       "      <td>0</td>\n",
       "      <td>0</td>\n",
       "      <td>1</td>\n",
       "      <td>1</td>\n",
       "    </tr>\n",
       "    <tr>\n",
       "      <th>2</th>\n",
       "      <td>1</td>\n",
       "      <td>0</td>\n",
       "      <td>1</td>\n",
       "      <td>2</td>\n",
       "    </tr>\n",
       "    <tr>\n",
       "      <th>3</th>\n",
       "      <td>2</td>\n",
       "      <td>0</td>\n",
       "      <td>1</td>\n",
       "      <td>3</td>\n",
       "    </tr>\n",
       "    <tr>\n",
       "      <th>4</th>\n",
       "      <td>5</td>\n",
       "      <td>0</td>\n",
       "      <td>1</td>\n",
       "      <td>4</td>\n",
       "    </tr>\n",
       "    <tr>\n",
       "      <th>5</th>\n",
       "      <td>5</td>\n",
       "      <td>0</td>\n",
       "      <td>1</td>\n",
       "      <td>5</td>\n",
       "    </tr>\n",
       "    <tr>\n",
       "      <th>6</th>\n",
       "      <td>1</td>\n",
       "      <td>0</td>\n",
       "      <td>1</td>\n",
       "      <td>6</td>\n",
       "    </tr>\n",
       "    <tr>\n",
       "      <th>7</th>\n",
       "      <td>2</td>\n",
       "      <td>0</td>\n",
       "      <td>1</td>\n",
       "      <td>7</td>\n",
       "    </tr>\n",
       "    <tr>\n",
       "      <th>8</th>\n",
       "      <td>3</td>\n",
       "      <td>0</td>\n",
       "      <td>1</td>\n",
       "      <td>8</td>\n",
       "    </tr>\n",
       "    <tr>\n",
       "      <th>9</th>\n",
       "      <td>5</td>\n",
       "      <td>0</td>\n",
       "      <td>1</td>\n",
       "      <td>9</td>\n",
       "    </tr>\n",
       "    <tr>\n",
       "      <th>10</th>\n",
       "      <td>0</td>\n",
       "      <td>0</td>\n",
       "      <td>1</td>\n",
       "      <td>10</td>\n",
       "    </tr>\n",
       "    <tr>\n",
       "      <th>11</th>\n",
       "      <td>4</td>\n",
       "      <td>0</td>\n",
       "      <td>1</td>\n",
       "      <td>11</td>\n",
       "    </tr>\n",
       "    <tr>\n",
       "      <th>12</th>\n",
       "      <td>5</td>\n",
       "      <td>0</td>\n",
       "      <td>1</td>\n",
       "      <td>12</td>\n",
       "    </tr>\n",
       "    <tr>\n",
       "      <th>13</th>\n",
       "      <td>5</td>\n",
       "      <td>0</td>\n",
       "      <td>1</td>\n",
       "      <td>13</td>\n",
       "    </tr>\n",
       "    <tr>\n",
       "      <th>14</th>\n",
       "      <td>1</td>\n",
       "      <td>0</td>\n",
       "      <td>1</td>\n",
       "      <td>14</td>\n",
       "    </tr>\n",
       "    <tr>\n",
       "      <th>15</th>\n",
       "      <td>0</td>\n",
       "      <td>0</td>\n",
       "      <td>1</td>\n",
       "      <td>15</td>\n",
       "    </tr>\n",
       "    <tr>\n",
       "      <th>16</th>\n",
       "      <td>3</td>\n",
       "      <td>0</td>\n",
       "      <td>1</td>\n",
       "      <td>16</td>\n",
       "    </tr>\n",
       "    <tr>\n",
       "      <th>17</th>\n",
       "      <td>0</td>\n",
       "      <td>0</td>\n",
       "      <td>1</td>\n",
       "      <td>17</td>\n",
       "    </tr>\n",
       "    <tr>\n",
       "      <th>18</th>\n",
       "      <td>0</td>\n",
       "      <td>0</td>\n",
       "      <td>1</td>\n",
       "      <td>18</td>\n",
       "    </tr>\n",
       "    <tr>\n",
       "      <th>19</th>\n",
       "      <td>0</td>\n",
       "      <td>0</td>\n",
       "      <td>1</td>\n",
       "      <td>19</td>\n",
       "    </tr>\n",
       "    <tr>\n",
       "      <th>20</th>\n",
       "      <td>4</td>\n",
       "      <td>0</td>\n",
       "      <td>0</td>\n",
       "      <td>0</td>\n",
       "    </tr>\n",
       "    <tr>\n",
       "      <th>21</th>\n",
       "      <td>3</td>\n",
       "      <td>0</td>\n",
       "      <td>0</td>\n",
       "      <td>1</td>\n",
       "    </tr>\n",
       "    <tr>\n",
       "      <th>22</th>\n",
       "      <td>3</td>\n",
       "      <td>0</td>\n",
       "      <td>0</td>\n",
       "      <td>2</td>\n",
       "    </tr>\n",
       "    <tr>\n",
       "      <th>23</th>\n",
       "      <td>6</td>\n",
       "      <td>1</td>\n",
       "      <td>0</td>\n",
       "      <td>3</td>\n",
       "    </tr>\n",
       "    <tr>\n",
       "      <th>24</th>\n",
       "      <td>7</td>\n",
       "      <td>1</td>\n",
       "      <td>0</td>\n",
       "      <td>4</td>\n",
       "    </tr>\n",
       "    <tr>\n",
       "      <th>25</th>\n",
       "      <td>8</td>\n",
       "      <td>1</td>\n",
       "      <td>0</td>\n",
       "      <td>5</td>\n",
       "    </tr>\n",
       "    <tr>\n",
       "      <th>26</th>\n",
       "      <td>5</td>\n",
       "      <td>0</td>\n",
       "      <td>0</td>\n",
       "      <td>6</td>\n",
       "    </tr>\n",
       "    <tr>\n",
       "      <th>27</th>\n",
       "      <td>6</td>\n",
       "      <td>1</td>\n",
       "      <td>0</td>\n",
       "      <td>7</td>\n",
       "    </tr>\n",
       "    <tr>\n",
       "      <th>28</th>\n",
       "      <td>7</td>\n",
       "      <td>1</td>\n",
       "      <td>0</td>\n",
       "      <td>8</td>\n",
       "    </tr>\n",
       "    <tr>\n",
       "      <th>29</th>\n",
       "      <td>10</td>\n",
       "      <td>1</td>\n",
       "      <td>0</td>\n",
       "      <td>9</td>\n",
       "    </tr>\n",
       "    <tr>\n",
       "      <th>30</th>\n",
       "      <td>2</td>\n",
       "      <td>1</td>\n",
       "      <td>0</td>\n",
       "      <td>10</td>\n",
       "    </tr>\n",
       "    <tr>\n",
       "      <th>31</th>\n",
       "      <td>6</td>\n",
       "      <td>1</td>\n",
       "      <td>0</td>\n",
       "      <td>11</td>\n",
       "    </tr>\n",
       "    <tr>\n",
       "      <th>32</th>\n",
       "      <td>7</td>\n",
       "      <td>0</td>\n",
       "      <td>0</td>\n",
       "      <td>12</td>\n",
       "    </tr>\n",
       "    <tr>\n",
       "      <th>33</th>\n",
       "      <td>9</td>\n",
       "      <td>0</td>\n",
       "      <td>0</td>\n",
       "      <td>13</td>\n",
       "    </tr>\n",
       "    <tr>\n",
       "      <th>34</th>\n",
       "      <td>4</td>\n",
       "      <td>0</td>\n",
       "      <td>0</td>\n",
       "      <td>14</td>\n",
       "    </tr>\n",
       "    <tr>\n",
       "      <th>35</th>\n",
       "      <td>2</td>\n",
       "      <td>1</td>\n",
       "      <td>0</td>\n",
       "      <td>15</td>\n",
       "    </tr>\n",
       "    <tr>\n",
       "      <th>36</th>\n",
       "      <td>7</td>\n",
       "      <td>0</td>\n",
       "      <td>0</td>\n",
       "      <td>16</td>\n",
       "    </tr>\n",
       "    <tr>\n",
       "      <th>37</th>\n",
       "      <td>5</td>\n",
       "      <td>1</td>\n",
       "      <td>0</td>\n",
       "      <td>17</td>\n",
       "    </tr>\n",
       "    <tr>\n",
       "      <th>38</th>\n",
       "      <td>5</td>\n",
       "      <td>1</td>\n",
       "      <td>0</td>\n",
       "      <td>18</td>\n",
       "    </tr>\n",
       "    <tr>\n",
       "      <th>39</th>\n",
       "      <td>3</td>\n",
       "      <td>0</td>\n",
       "      <td>0</td>\n",
       "      <td>19</td>\n",
       "    </tr>\n",
       "  </tbody>\n",
       "</table>\n",
       "</div>"
      ],
      "text/plain": [
       "    time  status  is_start  index\n",
       "0      1       0         1      0\n",
       "1      0       0         1      1\n",
       "2      1       0         1      2\n",
       "3      2       0         1      3\n",
       "4      5       0         1      4\n",
       "5      5       0         1      5\n",
       "6      1       0         1      6\n",
       "7      2       0         1      7\n",
       "8      3       0         1      8\n",
       "9      5       0         1      9\n",
       "10     0       0         1     10\n",
       "11     4       0         1     11\n",
       "12     5       0         1     12\n",
       "13     5       0         1     13\n",
       "14     1       0         1     14\n",
       "15     0       0         1     15\n",
       "16     3       0         1     16\n",
       "17     0       0         1     17\n",
       "18     0       0         1     18\n",
       "19     0       0         1     19\n",
       "20     4       0         0      0\n",
       "21     3       0         0      1\n",
       "22     3       0         0      2\n",
       "23     6       1         0      3\n",
       "24     7       1         0      4\n",
       "25     8       1         0      5\n",
       "26     5       0         0      6\n",
       "27     6       1         0      7\n",
       "28     7       1         0      8\n",
       "29    10       1         0      9\n",
       "30     2       1         0     10\n",
       "31     6       1         0     11\n",
       "32     7       0         0     12\n",
       "33     9       0         0     13\n",
       "34     4       0         0     14\n",
       "35     2       1         0     15\n",
       "36     7       0         0     16\n",
       "37     5       1         0     17\n",
       "38     5       1         0     18\n",
       "39     3       0         0     19"
      ]
     },
     "execution_count": 285,
     "metadata": {},
     "output_type": "execute_result"
    }
   ],
   "source": [
    "stacked_df = pd.DataFrame({'time':np.hstack([data_df['start'], data_df['event']]),\n",
    "                           'status':np.hstack([np.zeros_like(data_df['start']), \n",
    "                                               data_df['status']]),\n",
    "                           'is_start':np.hstack([np.ones(n, int), np.zeros(n, int)]),\n",
    "                           'index':np.hstack([np.arange(n), np.arange(n)])})\n",
    "stacked_df"
   ]
  },
  {
   "cell_type": "markdown",
   "id": "458a6f77-d503-4290-812c-8e3be1e05e3c",
   "metadata": {},
   "source": [
    "From this joint sort we will define several key sequences of length 30.\n",
    "\n",
    "- `event_order`: sorts event times into increasing order (according to this joint sort)\n",
    "- `start_order`: sorts start times into increasing order (according to this joint sort)\n",
    "- `first`: for a failure time, which may have ties, this is the first entry of `event_order` in this set of ties -- the entries of `first` that are not failure times are not used, but they are defined consistently in that no ties of non-failure times are material to the computations.\n",
    "- `last`: analogous to `first` but the last time\n",
    "- `event_map`: for the $i$-th event time, this is the number of start times stricly less than this event time: $\\text{event\\_map}[i] = \\# \\{j: s_j < t_i\\}$.\n",
    "- `start_map`: for the $i$-th start time, this is the number of event times less than or equal to $s_i$:\n",
    "  $\\text{start\\_map}[i] = \\# \\{j: t_j \\leq s_i\\}$.\n",
    "\n",
    "**These sequences are computed once.**"
   ]
  },
  {
   "cell_type": "markdown",
   "id": "ac92210e-1784-47b1-b47a-55a8646faeb3",
   "metadata": {},
   "source": [
    "### Computing the key sequences\n",
    "\n",
    "We sort the stacked data frame, placing \"failures\" (`status==1`) in front, and `start` times following `event` times.\n",
    "\n",
    "- This sorted data frame makes it easy to compute `start_order` and `event_order`.\n",
    "- Computing `first` requires keeping track of successive `event` times that have `status==1`, continuing to append a current beginning of the tie sequence until a change is detected.\n",
    "- Computing `event_map` and `start_map` requires keeping track of the current number of events (or starts) and appending this to `start_map` or `event_map`. This will yield `start_map` (in start order) and `event_map` (in event order). These can reordered to the original index. Later, we will set everything to event order."
   ]
  },
  {
   "cell_type": "code",
   "execution_count": 286,
   "id": "dea42cc5-d45b-4311-94bf-13042e85f479",
   "metadata": {},
   "outputs": [
    {
     "data": {
      "text/html": [
       "<div>\n",
       "<style scoped>\n",
       "    .dataframe tbody tr th:only-of-type {\n",
       "        vertical-align: middle;\n",
       "    }\n",
       "\n",
       "    .dataframe tbody tr th {\n",
       "        vertical-align: top;\n",
       "    }\n",
       "\n",
       "    .dataframe thead th {\n",
       "        text-align: right;\n",
       "    }\n",
       "</style>\n",
       "<table border=\"1\" class=\"dataframe\">\n",
       "  <thead>\n",
       "    <tr style=\"text-align: right;\">\n",
       "      <th></th>\n",
       "      <th>time</th>\n",
       "      <th>status</th>\n",
       "      <th>is_start</th>\n",
       "      <th>index</th>\n",
       "    </tr>\n",
       "  </thead>\n",
       "  <tbody>\n",
       "    <tr>\n",
       "      <th>1</th>\n",
       "      <td>0</td>\n",
       "      <td>0</td>\n",
       "      <td>1</td>\n",
       "      <td>1</td>\n",
       "    </tr>\n",
       "    <tr>\n",
       "      <th>10</th>\n",
       "      <td>0</td>\n",
       "      <td>0</td>\n",
       "      <td>1</td>\n",
       "      <td>10</td>\n",
       "    </tr>\n",
       "    <tr>\n",
       "      <th>15</th>\n",
       "      <td>0</td>\n",
       "      <td>0</td>\n",
       "      <td>1</td>\n",
       "      <td>15</td>\n",
       "    </tr>\n",
       "    <tr>\n",
       "      <th>17</th>\n",
       "      <td>0</td>\n",
       "      <td>0</td>\n",
       "      <td>1</td>\n",
       "      <td>17</td>\n",
       "    </tr>\n",
       "    <tr>\n",
       "      <th>18</th>\n",
       "      <td>0</td>\n",
       "      <td>0</td>\n",
       "      <td>1</td>\n",
       "      <td>18</td>\n",
       "    </tr>\n",
       "    <tr>\n",
       "      <th>19</th>\n",
       "      <td>0</td>\n",
       "      <td>0</td>\n",
       "      <td>1</td>\n",
       "      <td>19</td>\n",
       "    </tr>\n",
       "    <tr>\n",
       "      <th>0</th>\n",
       "      <td>1</td>\n",
       "      <td>0</td>\n",
       "      <td>1</td>\n",
       "      <td>0</td>\n",
       "    </tr>\n",
       "    <tr>\n",
       "      <th>2</th>\n",
       "      <td>1</td>\n",
       "      <td>0</td>\n",
       "      <td>1</td>\n",
       "      <td>2</td>\n",
       "    </tr>\n",
       "    <tr>\n",
       "      <th>6</th>\n",
       "      <td>1</td>\n",
       "      <td>0</td>\n",
       "      <td>1</td>\n",
       "      <td>6</td>\n",
       "    </tr>\n",
       "    <tr>\n",
       "      <th>14</th>\n",
       "      <td>1</td>\n",
       "      <td>0</td>\n",
       "      <td>1</td>\n",
       "      <td>14</td>\n",
       "    </tr>\n",
       "    <tr>\n",
       "      <th>30</th>\n",
       "      <td>2</td>\n",
       "      <td>1</td>\n",
       "      <td>0</td>\n",
       "      <td>10</td>\n",
       "    </tr>\n",
       "    <tr>\n",
       "      <th>35</th>\n",
       "      <td>2</td>\n",
       "      <td>1</td>\n",
       "      <td>0</td>\n",
       "      <td>15</td>\n",
       "    </tr>\n",
       "    <tr>\n",
       "      <th>3</th>\n",
       "      <td>2</td>\n",
       "      <td>0</td>\n",
       "      <td>1</td>\n",
       "      <td>3</td>\n",
       "    </tr>\n",
       "    <tr>\n",
       "      <th>7</th>\n",
       "      <td>2</td>\n",
       "      <td>0</td>\n",
       "      <td>1</td>\n",
       "      <td>7</td>\n",
       "    </tr>\n",
       "    <tr>\n",
       "      <th>21</th>\n",
       "      <td>3</td>\n",
       "      <td>0</td>\n",
       "      <td>0</td>\n",
       "      <td>1</td>\n",
       "    </tr>\n",
       "    <tr>\n",
       "      <th>22</th>\n",
       "      <td>3</td>\n",
       "      <td>0</td>\n",
       "      <td>0</td>\n",
       "      <td>2</td>\n",
       "    </tr>\n",
       "    <tr>\n",
       "      <th>39</th>\n",
       "      <td>3</td>\n",
       "      <td>0</td>\n",
       "      <td>0</td>\n",
       "      <td>19</td>\n",
       "    </tr>\n",
       "    <tr>\n",
       "      <th>8</th>\n",
       "      <td>3</td>\n",
       "      <td>0</td>\n",
       "      <td>1</td>\n",
       "      <td>8</td>\n",
       "    </tr>\n",
       "    <tr>\n",
       "      <th>16</th>\n",
       "      <td>3</td>\n",
       "      <td>0</td>\n",
       "      <td>1</td>\n",
       "      <td>16</td>\n",
       "    </tr>\n",
       "    <tr>\n",
       "      <th>20</th>\n",
       "      <td>4</td>\n",
       "      <td>0</td>\n",
       "      <td>0</td>\n",
       "      <td>0</td>\n",
       "    </tr>\n",
       "    <tr>\n",
       "      <th>34</th>\n",
       "      <td>4</td>\n",
       "      <td>0</td>\n",
       "      <td>0</td>\n",
       "      <td>14</td>\n",
       "    </tr>\n",
       "    <tr>\n",
       "      <th>11</th>\n",
       "      <td>4</td>\n",
       "      <td>0</td>\n",
       "      <td>1</td>\n",
       "      <td>11</td>\n",
       "    </tr>\n",
       "    <tr>\n",
       "      <th>37</th>\n",
       "      <td>5</td>\n",
       "      <td>1</td>\n",
       "      <td>0</td>\n",
       "      <td>17</td>\n",
       "    </tr>\n",
       "    <tr>\n",
       "      <th>38</th>\n",
       "      <td>5</td>\n",
       "      <td>1</td>\n",
       "      <td>0</td>\n",
       "      <td>18</td>\n",
       "    </tr>\n",
       "    <tr>\n",
       "      <th>26</th>\n",
       "      <td>5</td>\n",
       "      <td>0</td>\n",
       "      <td>0</td>\n",
       "      <td>6</td>\n",
       "    </tr>\n",
       "    <tr>\n",
       "      <th>4</th>\n",
       "      <td>5</td>\n",
       "      <td>0</td>\n",
       "      <td>1</td>\n",
       "      <td>4</td>\n",
       "    </tr>\n",
       "    <tr>\n",
       "      <th>5</th>\n",
       "      <td>5</td>\n",
       "      <td>0</td>\n",
       "      <td>1</td>\n",
       "      <td>5</td>\n",
       "    </tr>\n",
       "    <tr>\n",
       "      <th>9</th>\n",
       "      <td>5</td>\n",
       "      <td>0</td>\n",
       "      <td>1</td>\n",
       "      <td>9</td>\n",
       "    </tr>\n",
       "    <tr>\n",
       "      <th>12</th>\n",
       "      <td>5</td>\n",
       "      <td>0</td>\n",
       "      <td>1</td>\n",
       "      <td>12</td>\n",
       "    </tr>\n",
       "    <tr>\n",
       "      <th>13</th>\n",
       "      <td>5</td>\n",
       "      <td>0</td>\n",
       "      <td>1</td>\n",
       "      <td>13</td>\n",
       "    </tr>\n",
       "    <tr>\n",
       "      <th>23</th>\n",
       "      <td>6</td>\n",
       "      <td>1</td>\n",
       "      <td>0</td>\n",
       "      <td>3</td>\n",
       "    </tr>\n",
       "    <tr>\n",
       "      <th>27</th>\n",
       "      <td>6</td>\n",
       "      <td>1</td>\n",
       "      <td>0</td>\n",
       "      <td>7</td>\n",
       "    </tr>\n",
       "    <tr>\n",
       "      <th>31</th>\n",
       "      <td>6</td>\n",
       "      <td>1</td>\n",
       "      <td>0</td>\n",
       "      <td>11</td>\n",
       "    </tr>\n",
       "    <tr>\n",
       "      <th>24</th>\n",
       "      <td>7</td>\n",
       "      <td>1</td>\n",
       "      <td>0</td>\n",
       "      <td>4</td>\n",
       "    </tr>\n",
       "    <tr>\n",
       "      <th>28</th>\n",
       "      <td>7</td>\n",
       "      <td>1</td>\n",
       "      <td>0</td>\n",
       "      <td>8</td>\n",
       "    </tr>\n",
       "    <tr>\n",
       "      <th>32</th>\n",
       "      <td>7</td>\n",
       "      <td>0</td>\n",
       "      <td>0</td>\n",
       "      <td>12</td>\n",
       "    </tr>\n",
       "    <tr>\n",
       "      <th>36</th>\n",
       "      <td>7</td>\n",
       "      <td>0</td>\n",
       "      <td>0</td>\n",
       "      <td>16</td>\n",
       "    </tr>\n",
       "    <tr>\n",
       "      <th>25</th>\n",
       "      <td>8</td>\n",
       "      <td>1</td>\n",
       "      <td>0</td>\n",
       "      <td>5</td>\n",
       "    </tr>\n",
       "    <tr>\n",
       "      <th>33</th>\n",
       "      <td>9</td>\n",
       "      <td>0</td>\n",
       "      <td>0</td>\n",
       "      <td>13</td>\n",
       "    </tr>\n",
       "    <tr>\n",
       "      <th>29</th>\n",
       "      <td>10</td>\n",
       "      <td>1</td>\n",
       "      <td>0</td>\n",
       "      <td>9</td>\n",
       "    </tr>\n",
       "  </tbody>\n",
       "</table>\n",
       "</div>"
      ],
      "text/plain": [
       "    time  status  is_start  index\n",
       "1      0       0         1      1\n",
       "10     0       0         1     10\n",
       "15     0       0         1     15\n",
       "17     0       0         1     17\n",
       "18     0       0         1     18\n",
       "19     0       0         1     19\n",
       "0      1       0         1      0\n",
       "2      1       0         1      2\n",
       "6      1       0         1      6\n",
       "14     1       0         1     14\n",
       "30     2       1         0     10\n",
       "35     2       1         0     15\n",
       "3      2       0         1      3\n",
       "7      2       0         1      7\n",
       "21     3       0         0      1\n",
       "22     3       0         0      2\n",
       "39     3       0         0     19\n",
       "8      3       0         1      8\n",
       "16     3       0         1     16\n",
       "20     4       0         0      0\n",
       "34     4       0         0     14\n",
       "11     4       0         1     11\n",
       "37     5       1         0     17\n",
       "38     5       1         0     18\n",
       "26     5       0         0      6\n",
       "4      5       0         1      4\n",
       "5      5       0         1      5\n",
       "9      5       0         1      9\n",
       "12     5       0         1     12\n",
       "13     5       0         1     13\n",
       "23     6       1         0      3\n",
       "27     6       1         0      7\n",
       "31     6       1         0     11\n",
       "24     7       1         0      4\n",
       "28     7       1         0      8\n",
       "32     7       0         0     12\n",
       "36     7       0         0     16\n",
       "25     8       1         0      5\n",
       "33     9       0         0     13\n",
       "29    10       1         0      9"
      ]
     },
     "execution_count": 286,
     "metadata": {},
     "output_type": "execute_result"
    }
   ],
   "source": [
    "sorted_df = stacked_df.sort_values(by=['time', 'status', 'is_start'], ascending=[True,False,True])\n",
    "sorted_df"
   ]
  },
  {
   "cell_type": "code",
   "execution_count": 287,
   "id": "3281aa1e-339c-49db-90e3-fe5a9138e4df",
   "metadata": {},
   "outputs": [],
   "source": [
    "def sort_start_event(original_df, sorted_df):\n",
    "    event_count, start_count = 0, 0\n",
    "    event_order, start_order = [], []\n",
    "    start_map, event_map = [], []\n",
    "    first = []\n",
    "    event_idx = []\n",
    "    last_row = None\n",
    "    which_event = -1\n",
    "    first_event = -1\n",
    "    num_successive_event = 1\n",
    "    ties = {}    \n",
    "    for _r in range(sorted_df.shape[0]):\n",
    "        row = sorted_df.iloc[_r]\n",
    "        if row['is_start'] == 1: # a start time\n",
    "            start_order.append(row['index'])\n",
    "            start_map.append(event_count)\n",
    "            start_count += 1\n",
    "        else: # an event / stop time\n",
    "            if row['status'] == 1:\n",
    "                # if it's an event and the time is same as last row \n",
    "                # it is the same event\n",
    "                # else it's the next \"which_event\"\n",
    "                \n",
    "                if (last_row is not None and \n",
    "                    row['time'] != last_row['time']): # index of next `status==1`\n",
    "                    first_event += num_successive_event\n",
    "                    num_successive_event = 1\n",
    "                    which_event += 1\n",
    "                else:\n",
    "                    num_successive_event += 1\n",
    "                    \n",
    "                first.append(first_event)\n",
    "            else:\n",
    "                first_event += num_successive_event\n",
    "                num_successive_event = 1\n",
    "                first.append(first_event) # this event time was not an failure time\n",
    "\n",
    "            event_map.append(start_count)\n",
    "            event_order.append(row['index'])\n",
    "            event_count += 1\n",
    "        last_row = row\n",
    "\n",
    "    first = np.array(first)\n",
    "    start_order = np.array(start_order).astype(int)\n",
    "    event_order = np.array(event_order).astype(int)\n",
    "    start_map = np.array(start_map)\n",
    "    event_map = np.array(event_map)\n",
    "\n",
    "    # reset start_map to original order\n",
    "    start_map_cp = start_map.copy()\n",
    "    start_map[start_order] = start_map_cp\n",
    "\n",
    "    status_event = np.asarray(original_df['status'])[event_order]\n",
    "    preprocessed_df = pd.DataFrame({'status':status_event,\n",
    "                                    'first':first,\n",
    "                                    'start_map':start_map[event_order].astype(int), \n",
    "                                    'event_map':event_map.astype(int) # already in event order\n",
    "                                    }, index=event_order)\n",
    "    print(preprocessed_df.index)\n",
    "\n",
    "    # compute `last`\n",
    "    \n",
    "    last = []\n",
    "    last_event = n-1\n",
    "    for i, f in enumerate(preprocessed_df['first'][::-1]):\n",
    "        last.append(last_event)\n",
    "        # immediately following a last event, `first` will agree with np.arange\n",
    "        if f - (n - 1 - i) == 0:\n",
    "            last_event = f - 1        \n",
    "\n",
    "    preprocessed_df.insert(2, 'last', last[::-1])\n",
    "    \n",
    "\n",
    "    return preprocessed_df, event_order, start_order"
   ]
  },
  {
   "cell_type": "code",
   "execution_count": 288,
   "id": "c5b6c39d-b221-4a41-bcf5-07610dce6fff",
   "metadata": {},
   "outputs": [
    {
     "name": "stdout",
     "output_type": "stream",
     "text": [
      "Int64Index([10, 15, 1, 2, 19, 0, 14, 17, 18, 6, 3, 7, 11, 4, 8, 12, 16, 5, 13,\n",
      "            9],\n",
      "           dtype='int64')\n"
     ]
    },
    {
     "data": {
      "text/html": [
       "<div>\n",
       "<style scoped>\n",
       "    .dataframe tbody tr th:only-of-type {\n",
       "        vertical-align: middle;\n",
       "    }\n",
       "\n",
       "    .dataframe tbody tr th {\n",
       "        vertical-align: top;\n",
       "    }\n",
       "\n",
       "    .dataframe thead th {\n",
       "        text-align: right;\n",
       "    }\n",
       "</style>\n",
       "<table border=\"1\" class=\"dataframe\">\n",
       "  <thead>\n",
       "    <tr style=\"text-align: right;\">\n",
       "      <th></th>\n",
       "      <th>status</th>\n",
       "      <th>first</th>\n",
       "      <th>last</th>\n",
       "      <th>start_map</th>\n",
       "      <th>event_map</th>\n",
       "    </tr>\n",
       "  </thead>\n",
       "  <tbody>\n",
       "    <tr>\n",
       "      <th>10</th>\n",
       "      <td>1</td>\n",
       "      <td>0</td>\n",
       "      <td>1</td>\n",
       "      <td>0</td>\n",
       "      <td>10</td>\n",
       "    </tr>\n",
       "    <tr>\n",
       "      <th>15</th>\n",
       "      <td>1</td>\n",
       "      <td>0</td>\n",
       "      <td>1</td>\n",
       "      <td>0</td>\n",
       "      <td>10</td>\n",
       "    </tr>\n",
       "    <tr>\n",
       "      <th>1</th>\n",
       "      <td>0</td>\n",
       "      <td>2</td>\n",
       "      <td>2</td>\n",
       "      <td>0</td>\n",
       "      <td>12</td>\n",
       "    </tr>\n",
       "    <tr>\n",
       "      <th>2</th>\n",
       "      <td>0</td>\n",
       "      <td>3</td>\n",
       "      <td>3</td>\n",
       "      <td>0</td>\n",
       "      <td>12</td>\n",
       "    </tr>\n",
       "    <tr>\n",
       "      <th>19</th>\n",
       "      <td>0</td>\n",
       "      <td>4</td>\n",
       "      <td>4</td>\n",
       "      <td>0</td>\n",
       "      <td>12</td>\n",
       "    </tr>\n",
       "    <tr>\n",
       "      <th>0</th>\n",
       "      <td>0</td>\n",
       "      <td>5</td>\n",
       "      <td>5</td>\n",
       "      <td>0</td>\n",
       "      <td>14</td>\n",
       "    </tr>\n",
       "    <tr>\n",
       "      <th>14</th>\n",
       "      <td>0</td>\n",
       "      <td>6</td>\n",
       "      <td>6</td>\n",
       "      <td>0</td>\n",
       "      <td>14</td>\n",
       "    </tr>\n",
       "    <tr>\n",
       "      <th>17</th>\n",
       "      <td>1</td>\n",
       "      <td>7</td>\n",
       "      <td>8</td>\n",
       "      <td>0</td>\n",
       "      <td>15</td>\n",
       "    </tr>\n",
       "    <tr>\n",
       "      <th>18</th>\n",
       "      <td>1</td>\n",
       "      <td>7</td>\n",
       "      <td>8</td>\n",
       "      <td>0</td>\n",
       "      <td>15</td>\n",
       "    </tr>\n",
       "    <tr>\n",
       "      <th>6</th>\n",
       "      <td>0</td>\n",
       "      <td>9</td>\n",
       "      <td>9</td>\n",
       "      <td>0</td>\n",
       "      <td>15</td>\n",
       "    </tr>\n",
       "    <tr>\n",
       "      <th>3</th>\n",
       "      <td>1</td>\n",
       "      <td>10</td>\n",
       "      <td>12</td>\n",
       "      <td>2</td>\n",
       "      <td>20</td>\n",
       "    </tr>\n",
       "    <tr>\n",
       "      <th>7</th>\n",
       "      <td>1</td>\n",
       "      <td>10</td>\n",
       "      <td>12</td>\n",
       "      <td>2</td>\n",
       "      <td>20</td>\n",
       "    </tr>\n",
       "    <tr>\n",
       "      <th>11</th>\n",
       "      <td>1</td>\n",
       "      <td>10</td>\n",
       "      <td>12</td>\n",
       "      <td>7</td>\n",
       "      <td>20</td>\n",
       "    </tr>\n",
       "    <tr>\n",
       "      <th>4</th>\n",
       "      <td>1</td>\n",
       "      <td>13</td>\n",
       "      <td>14</td>\n",
       "      <td>10</td>\n",
       "      <td>20</td>\n",
       "    </tr>\n",
       "    <tr>\n",
       "      <th>8</th>\n",
       "      <td>1</td>\n",
       "      <td>13</td>\n",
       "      <td>14</td>\n",
       "      <td>5</td>\n",
       "      <td>20</td>\n",
       "    </tr>\n",
       "    <tr>\n",
       "      <th>12</th>\n",
       "      <td>0</td>\n",
       "      <td>15</td>\n",
       "      <td>15</td>\n",
       "      <td>10</td>\n",
       "      <td>20</td>\n",
       "    </tr>\n",
       "    <tr>\n",
       "      <th>16</th>\n",
       "      <td>0</td>\n",
       "      <td>16</td>\n",
       "      <td>16</td>\n",
       "      <td>5</td>\n",
       "      <td>20</td>\n",
       "    </tr>\n",
       "    <tr>\n",
       "      <th>5</th>\n",
       "      <td>1</td>\n",
       "      <td>17</td>\n",
       "      <td>17</td>\n",
       "      <td>10</td>\n",
       "      <td>20</td>\n",
       "    </tr>\n",
       "    <tr>\n",
       "      <th>13</th>\n",
       "      <td>0</td>\n",
       "      <td>18</td>\n",
       "      <td>18</td>\n",
       "      <td>10</td>\n",
       "      <td>20</td>\n",
       "    </tr>\n",
       "    <tr>\n",
       "      <th>9</th>\n",
       "      <td>1</td>\n",
       "      <td>19</td>\n",
       "      <td>19</td>\n",
       "      <td>10</td>\n",
       "      <td>20</td>\n",
       "    </tr>\n",
       "  </tbody>\n",
       "</table>\n",
       "</div>"
      ],
      "text/plain": [
       "    status  first  last  start_map  event_map\n",
       "10       1      0     1          0         10\n",
       "15       1      0     1          0         10\n",
       "1        0      2     2          0         12\n",
       "2        0      3     3          0         12\n",
       "19       0      4     4          0         12\n",
       "0        0      5     5          0         14\n",
       "14       0      6     6          0         14\n",
       "17       1      7     8          0         15\n",
       "18       1      7     8          0         15\n",
       "6        0      9     9          0         15\n",
       "3        1     10    12          2         20\n",
       "7        1     10    12          2         20\n",
       "11       1     10    12          7         20\n",
       "4        1     13    14         10         20\n",
       "8        1     13    14          5         20\n",
       "12       0     15    15         10         20\n",
       "16       0     16    16          5         20\n",
       "5        1     17    17         10         20\n",
       "13       0     18    18         10         20\n",
       "9        1     19    19         10         20"
      ]
     },
     "execution_count": 288,
     "metadata": {},
     "output_type": "execute_result"
    }
   ],
   "source": [
    "(preproc, \n",
    " event_order, \n",
    " start_order) = sort_start_event(data_df, sorted_df)\n",
    "preproc # note that preproc.index == event_order"
   ]
  },
  {
   "cell_type": "markdown",
   "id": "6f9b529f-7432-433f-b950-8b4d2d4097b9",
   "metadata": {},
   "source": [
    "Let's add the sorted `event`, `start` and `status` so we can go through some of these\n",
    "calculations."
   ]
  },
  {
   "cell_type": "code",
   "execution_count": 289,
   "id": "d9a6709e-5a33-4bc1-82c1-76fe3d3667db",
   "metadata": {},
   "outputs": [
    {
     "data": {
      "text/html": [
       "<div>\n",
       "<style scoped>\n",
       "    .dataframe tbody tr th:only-of-type {\n",
       "        vertical-align: middle;\n",
       "    }\n",
       "\n",
       "    .dataframe tbody tr th {\n",
       "        vertical-align: top;\n",
       "    }\n",
       "\n",
       "    .dataframe thead th {\n",
       "        text-align: right;\n",
       "    }\n",
       "</style>\n",
       "<table border=\"1\" class=\"dataframe\">\n",
       "  <thead>\n",
       "    <tr style=\"text-align: right;\">\n",
       "      <th></th>\n",
       "      <th>status</th>\n",
       "      <th>first</th>\n",
       "      <th>last</th>\n",
       "      <th>start_map</th>\n",
       "      <th>event_map</th>\n",
       "      <th>event</th>\n",
       "      <th>start</th>\n",
       "    </tr>\n",
       "  </thead>\n",
       "  <tbody>\n",
       "    <tr>\n",
       "      <th>10</th>\n",
       "      <td>1</td>\n",
       "      <td>0</td>\n",
       "      <td>1</td>\n",
       "      <td>0</td>\n",
       "      <td>10</td>\n",
       "      <td>2</td>\n",
       "      <td>0</td>\n",
       "    </tr>\n",
       "    <tr>\n",
       "      <th>15</th>\n",
       "      <td>1</td>\n",
       "      <td>0</td>\n",
       "      <td>1</td>\n",
       "      <td>0</td>\n",
       "      <td>10</td>\n",
       "      <td>2</td>\n",
       "      <td>0</td>\n",
       "    </tr>\n",
       "    <tr>\n",
       "      <th>1</th>\n",
       "      <td>0</td>\n",
       "      <td>2</td>\n",
       "      <td>2</td>\n",
       "      <td>0</td>\n",
       "      <td>12</td>\n",
       "      <td>3</td>\n",
       "      <td>0</td>\n",
       "    </tr>\n",
       "    <tr>\n",
       "      <th>2</th>\n",
       "      <td>0</td>\n",
       "      <td>3</td>\n",
       "      <td>3</td>\n",
       "      <td>0</td>\n",
       "      <td>12</td>\n",
       "      <td>3</td>\n",
       "      <td>1</td>\n",
       "    </tr>\n",
       "    <tr>\n",
       "      <th>19</th>\n",
       "      <td>0</td>\n",
       "      <td>4</td>\n",
       "      <td>4</td>\n",
       "      <td>0</td>\n",
       "      <td>12</td>\n",
       "      <td>3</td>\n",
       "      <td>0</td>\n",
       "    </tr>\n",
       "    <tr>\n",
       "      <th>0</th>\n",
       "      <td>0</td>\n",
       "      <td>5</td>\n",
       "      <td>5</td>\n",
       "      <td>0</td>\n",
       "      <td>14</td>\n",
       "      <td>4</td>\n",
       "      <td>1</td>\n",
       "    </tr>\n",
       "    <tr>\n",
       "      <th>14</th>\n",
       "      <td>0</td>\n",
       "      <td>6</td>\n",
       "      <td>6</td>\n",
       "      <td>0</td>\n",
       "      <td>14</td>\n",
       "      <td>4</td>\n",
       "      <td>1</td>\n",
       "    </tr>\n",
       "    <tr>\n",
       "      <th>17</th>\n",
       "      <td>1</td>\n",
       "      <td>7</td>\n",
       "      <td>8</td>\n",
       "      <td>0</td>\n",
       "      <td>15</td>\n",
       "      <td>5</td>\n",
       "      <td>0</td>\n",
       "    </tr>\n",
       "    <tr>\n",
       "      <th>18</th>\n",
       "      <td>1</td>\n",
       "      <td>7</td>\n",
       "      <td>8</td>\n",
       "      <td>0</td>\n",
       "      <td>15</td>\n",
       "      <td>5</td>\n",
       "      <td>0</td>\n",
       "    </tr>\n",
       "    <tr>\n",
       "      <th>6</th>\n",
       "      <td>0</td>\n",
       "      <td>9</td>\n",
       "      <td>9</td>\n",
       "      <td>0</td>\n",
       "      <td>15</td>\n",
       "      <td>5</td>\n",
       "      <td>1</td>\n",
       "    </tr>\n",
       "    <tr>\n",
       "      <th>3</th>\n",
       "      <td>1</td>\n",
       "      <td>10</td>\n",
       "      <td>12</td>\n",
       "      <td>2</td>\n",
       "      <td>20</td>\n",
       "      <td>6</td>\n",
       "      <td>2</td>\n",
       "    </tr>\n",
       "    <tr>\n",
       "      <th>7</th>\n",
       "      <td>1</td>\n",
       "      <td>10</td>\n",
       "      <td>12</td>\n",
       "      <td>2</td>\n",
       "      <td>20</td>\n",
       "      <td>6</td>\n",
       "      <td>2</td>\n",
       "    </tr>\n",
       "    <tr>\n",
       "      <th>11</th>\n",
       "      <td>1</td>\n",
       "      <td>10</td>\n",
       "      <td>12</td>\n",
       "      <td>7</td>\n",
       "      <td>20</td>\n",
       "      <td>6</td>\n",
       "      <td>4</td>\n",
       "    </tr>\n",
       "    <tr>\n",
       "      <th>4</th>\n",
       "      <td>1</td>\n",
       "      <td>13</td>\n",
       "      <td>14</td>\n",
       "      <td>10</td>\n",
       "      <td>20</td>\n",
       "      <td>7</td>\n",
       "      <td>5</td>\n",
       "    </tr>\n",
       "    <tr>\n",
       "      <th>8</th>\n",
       "      <td>1</td>\n",
       "      <td>13</td>\n",
       "      <td>14</td>\n",
       "      <td>5</td>\n",
       "      <td>20</td>\n",
       "      <td>7</td>\n",
       "      <td>3</td>\n",
       "    </tr>\n",
       "    <tr>\n",
       "      <th>12</th>\n",
       "      <td>0</td>\n",
       "      <td>15</td>\n",
       "      <td>15</td>\n",
       "      <td>10</td>\n",
       "      <td>20</td>\n",
       "      <td>7</td>\n",
       "      <td>5</td>\n",
       "    </tr>\n",
       "    <tr>\n",
       "      <th>16</th>\n",
       "      <td>0</td>\n",
       "      <td>16</td>\n",
       "      <td>16</td>\n",
       "      <td>5</td>\n",
       "      <td>20</td>\n",
       "      <td>7</td>\n",
       "      <td>3</td>\n",
       "    </tr>\n",
       "    <tr>\n",
       "      <th>5</th>\n",
       "      <td>1</td>\n",
       "      <td>17</td>\n",
       "      <td>17</td>\n",
       "      <td>10</td>\n",
       "      <td>20</td>\n",
       "      <td>8</td>\n",
       "      <td>5</td>\n",
       "    </tr>\n",
       "    <tr>\n",
       "      <th>13</th>\n",
       "      <td>0</td>\n",
       "      <td>18</td>\n",
       "      <td>18</td>\n",
       "      <td>10</td>\n",
       "      <td>20</td>\n",
       "      <td>9</td>\n",
       "      <td>5</td>\n",
       "    </tr>\n",
       "    <tr>\n",
       "      <th>9</th>\n",
       "      <td>1</td>\n",
       "      <td>19</td>\n",
       "      <td>19</td>\n",
       "      <td>10</td>\n",
       "      <td>20</td>\n",
       "      <td>10</td>\n",
       "      <td>5</td>\n",
       "    </tr>\n",
       "  </tbody>\n",
       "</table>\n",
       "</div>"
      ],
      "text/plain": [
       "    status  first  last  start_map  event_map  event  start\n",
       "10       1      0     1          0         10      2      0\n",
       "15       1      0     1          0         10      2      0\n",
       "1        0      2     2          0         12      3      0\n",
       "2        0      3     3          0         12      3      1\n",
       "19       0      4     4          0         12      3      0\n",
       "0        0      5     5          0         14      4      1\n",
       "14       0      6     6          0         14      4      1\n",
       "17       1      7     8          0         15      5      0\n",
       "18       1      7     8          0         15      5      0\n",
       "6        0      9     9          0         15      5      1\n",
       "3        1     10    12          2         20      6      2\n",
       "7        1     10    12          2         20      6      2\n",
       "11       1     10    12          7         20      6      4\n",
       "4        1     13    14         10         20      7      5\n",
       "8        1     13    14          5         20      7      3\n",
       "12       0     15    15         10         20      7      5\n",
       "16       0     16    16          5         20      7      3\n",
       "5        1     17    17         10         20      8      5\n",
       "13       0     18    18         10         20      9      5\n",
       "9        1     19    19         10         20     10      5"
      ]
     },
     "execution_count": 289,
     "metadata": {},
     "output_type": "execute_result"
    }
   ],
   "source": [
    "preproc['event'] = data_df['event'][event_order]\n",
    "preproc['start'] = data_df['start'][event_order]\n",
    "preproc"
   ]
  },
  {
   "cell_type": "markdown",
   "id": "27611ae3-5393-4649-afaf-2ce74b34f2dc",
   "metadata": {},
   "source": [
    "Let's look at row with index `11` above. The value of `7` for `start_map` means that this individual's `start` time was\n",
    "such that they were not in the risk set for the first 7 event times. Indeed, the `start` time is `4` and there are 7 event times less than or equal to 4.\n",
    "\n",
    "The value of `event_map` is 20. This means there were 20 start times less than the event time which is `6`."
   ]
  },
  {
   "cell_type": "code",
   "execution_count": 290,
   "id": "6a248ae5-ac34-4b7e-9838-2f06cc7b7fab",
   "metadata": {},
   "outputs": [
    {
     "data": {
      "text/plain": [
       "20"
      ]
     },
     "execution_count": 290,
     "metadata": {},
     "output_type": "execute_result"
    }
   ],
   "source": [
    "(data_df['start'] < 6).sum()"
   ]
  },
  {
   "cell_type": "markdown",
   "id": "a35712b9-44cd-452c-a09d-9a8058dc2fa5",
   "metadata": {},
   "source": [
    "# Evaluation\n",
    "\n",
    "## Saturated log-likelihood\n",
    "\n",
    "First, let's compute the saturated log-likelihood. This is also a pre-processing step."
   ]
  },
  {
   "cell_type": "code",
   "execution_count": 291,
   "id": "df94aaab-274b-4961-af41-18f69b6c7b7f",
   "metadata": {},
   "outputs": [
    {
     "data": {
      "text/plain": [
       "-21.747664708385678"
      ]
     },
     "execution_count": 291,
     "metadata": {},
     "output_type": "execute_result"
    }
   ],
   "source": [
    "sat_df = preproc[['first', 'status']].copy() # in event order\n",
    "sat_df['sample_weight'] = data_df['weight'][event_order]\n",
    "loglik_sat2 = 0\n",
    "for _, df in sat_df[['first', 'status', 'sample_weight']].groupby('first'):\n",
    "    if df['status'].sum() > 0:\n",
    "        W = (df['sample_weight'] * df['status']).sum()\n",
    "        loglik_sat2 -= W * np.log(W)\n",
    "loglik_sat2"
   ]
  },
  {
   "cell_type": "markdown",
   "id": "da72fe67-79e0-4c25-9f74-08a5fcfcd912",
   "metadata": {},
   "source": [
    "## Efron's tie breaking method\n",
    "\n",
    "For this, we need yet another array of shape `(n,)`. This vector can be\n",
    "computed without `eta`. When there are no ties, this vector is identically 0."
   ]
  },
  {
   "cell_type": "code",
   "execution_count": 292,
   "id": "d0d69301-44ca-40ed-bec5-96d3d3e25bf7",
   "metadata": {},
   "outputs": [],
   "source": [
    "den = preproc['last'] + 1 - preproc['first']\n",
    "preproc['scaling'] = (np.arange(n) - preproc['first']) / den"
   ]
  },
  {
   "cell_type": "markdown",
   "id": "34c77add-ce1f-4713-ba2b-f54f6b794fae",
   "metadata": {},
   "source": [
    "The columns in `preproc` are:"
   ]
  },
  {
   "cell_type": "code",
   "execution_count": 293,
   "id": "186720ef-2976-420a-a47b-0cdd4fb952f1",
   "metadata": {},
   "outputs": [
    {
     "data": {
      "text/plain": [
       "Index(['status', 'first', 'last', 'start_map', 'event_map', 'event', 'start',\n",
       "       'scaling'],\n",
       "      dtype='object')"
      ]
     },
     "execution_count": 293,
     "metadata": {},
     "output_type": "execute_result"
    }
   ],
   "source": [
    "preproc.columns"
   ]
  },
  {
   "cell_type": "markdown",
   "id": "cfdb1fd0-5ea7-4558-814d-cdc87c382435",
   "metadata": {},
   "source": [
    "The data frame `preproc` can be computed without reference to `eta`. Its columns\n",
    "will be the arguments to the core `C` computation."
   ]
  },
  {
   "cell_type": "markdown",
   "id": "3978b041-f974-42ac-bbeb-6dbf380d27cd",
   "metadata": {},
   "source": [
    "With all of the above preprocessing done, we can now define the relevant\n",
    "reversed cumsums in the risk sum: `E` for event, `S` for start and `M` for (scaled) mean:\n",
    "$$\n",
    "\\begin{aligned}\n",
    "E_i(\\eta) &= \\sum_{j:j \\geq i} w_j e^{\\eta_j} \\\\\n",
    "&= \\sum_{j:t_j \\geq t_i} w_j e^{\\eta_j} \\\\\n",
    "S_i(\\eta) &= \\sum_{j: s_j > t_i} w_j e^{\\eta_j} \\\\\n",
    "M_i(\\eta) &= \\text{scaling}(i)  \\cdot \\left(E_{\\text{first}(i)}(\\eta) - E_{\\text{last}(i)+1}(\\eta)\\right) \\\\\n",
    "&\\overset{\\text{def}}{=} \\sigma_E(i)  \\cdot \\left(E_{\\text{first}(i)}(\\eta) - E_{\\text{last}(i)+1}(\\eta)\\right).\n",
    "\\end{aligned}\n",
    "$$\n",
    "The risk sums for start / event data with Efron's tie-breaking are\n",
    "$$\n",
    "R_i(\\eta) = E_{\\text{first}(i)}(\\eta) - S_i(\\eta) - M_i(\\eta).\n",
    "$$\n",
    "\n",
    "Introducing indicators $\\delta_S$ for whether start times are present (otherwise equal to $-\\infty)$ and \n",
    "$\\delta_E$ for whether we use Efron's tie correction, we can include all 4 cases with the risk sum\n",
    "$$\n",
    "R_i(\\eta) = E_i(\\eta) - \\delta_S \\cdot S_i(\\eta) - \\delta_E \\cdot M_i(\\eta).\n",
    "$$\n",
    "\n",
    "The log-likelihood (in all four cases) is defined to be\n",
    "$$\n",
    "\\ell(\\eta) = \\sum_i w_i d_i \\left(\\eta_i - \\log(R_i(\\eta))\\right)\n",
    "$$"
   ]
  },
  {
   "cell_type": "markdown",
   "id": "119a101a-1355-44d2-9c50-532bb091a7a7",
   "metadata": {},
   "source": [
    "The following derivatives are useful for computing the gradient and Hessian of the log-likelihood:\n",
    "$$\n",
    "\\begin{aligned}\n",
    "\\frac{\\partial}{\\partial \\eta_k} E_i(\\eta) &= w_k e^{\\eta_k} \\cdot 1_{\\{k \\geq \\text{first}(i)\\}} \\\\\n",
    "&= w_k e^{\\eta_k} \\cdot 1_{\\{i \\leq \\text{last}(k)\\}} \\\\\n",
    "\\frac{\\partial}{\\partial \\eta_k} S_i(\\eta) &= w_k e^{\\eta_k}  \\cdot 1_{\\{s_k > t_i\\}} \\\\\n",
    "&= w_k e^{\\eta_k} \\cdot 1_{\\{\\text{last}(i) < \\text{start\\_map}(k)\\}} \\\\\n",
    "&= w_k e^{\\eta_k} \\cdot 1_{\\{i < \\text{first}(\\text{start\\_map}(k))\\}} \\\\\n",
    "&\\overset{def}{=} w_k e^{\\eta_k} \\cdot 1_{\\{i < \\text{first\\_start}(k))\\}} \\\\\n",
    "\\frac{\\partial}{\\partial \\eta_k} M_i(\\eta) &= w_k e^{\\eta_k} \\cdot \\text{scaling}_i \\cdot 1_{[\\text{first}(i), \\text{last}(i)]}(k) \\\\\n",
    "&\\overset{\\text{def}}{=} w_k e^{\\eta_k} \\cdot \\sigma_E(i) \\cdot \\left( 1_{\\{i \\leq  \\text{last}(k)\\}} - 1_{\\{i \\leq \\text{first}(k)-1\\}}\\right)\n",
    "\\end{aligned}\n",
    "$$"
   ]
  },
  {
   "cell_type": "markdown",
   "id": "b0f20e9b-dabe-4afa-b2c1-731a5e7fabd7",
   "metadata": {},
   "source": [
    "### Difference between `start_map` and `first_start`?\n",
    "\n",
    "There seems to be no difference (see below where we have tried to find an example)."
   ]
  },
  {
   "cell_type": "code",
   "execution_count": 294,
   "id": "e75bbb0f-fc42-4d3c-a383-9bb5cb1d1341",
   "metadata": {},
   "outputs": [
    {
     "data": {
      "text/html": [
       "<div>\n",
       "<style scoped>\n",
       "    .dataframe tbody tr th:only-of-type {\n",
       "        vertical-align: middle;\n",
       "    }\n",
       "\n",
       "    .dataframe tbody tr th {\n",
       "        vertical-align: top;\n",
       "    }\n",
       "\n",
       "    .dataframe thead th {\n",
       "        text-align: right;\n",
       "    }\n",
       "</style>\n",
       "<table border=\"1\" class=\"dataframe\">\n",
       "  <thead>\n",
       "    <tr style=\"text-align: right;\">\n",
       "      <th></th>\n",
       "      <th>start_map</th>\n",
       "      <th>first_start</th>\n",
       "    </tr>\n",
       "  </thead>\n",
       "  <tbody>\n",
       "    <tr>\n",
       "      <th>10</th>\n",
       "      <td>0</td>\n",
       "      <td>0</td>\n",
       "    </tr>\n",
       "    <tr>\n",
       "      <th>15</th>\n",
       "      <td>0</td>\n",
       "      <td>0</td>\n",
       "    </tr>\n",
       "    <tr>\n",
       "      <th>1</th>\n",
       "      <td>0</td>\n",
       "      <td>0</td>\n",
       "    </tr>\n",
       "    <tr>\n",
       "      <th>2</th>\n",
       "      <td>0</td>\n",
       "      <td>0</td>\n",
       "    </tr>\n",
       "    <tr>\n",
       "      <th>19</th>\n",
       "      <td>0</td>\n",
       "      <td>0</td>\n",
       "    </tr>\n",
       "    <tr>\n",
       "      <th>0</th>\n",
       "      <td>0</td>\n",
       "      <td>0</td>\n",
       "    </tr>\n",
       "    <tr>\n",
       "      <th>14</th>\n",
       "      <td>0</td>\n",
       "      <td>0</td>\n",
       "    </tr>\n",
       "    <tr>\n",
       "      <th>17</th>\n",
       "      <td>0</td>\n",
       "      <td>0</td>\n",
       "    </tr>\n",
       "    <tr>\n",
       "      <th>18</th>\n",
       "      <td>0</td>\n",
       "      <td>0</td>\n",
       "    </tr>\n",
       "    <tr>\n",
       "      <th>6</th>\n",
       "      <td>0</td>\n",
       "      <td>0</td>\n",
       "    </tr>\n",
       "    <tr>\n",
       "      <th>3</th>\n",
       "      <td>2</td>\n",
       "      <td>2</td>\n",
       "    </tr>\n",
       "    <tr>\n",
       "      <th>7</th>\n",
       "      <td>2</td>\n",
       "      <td>2</td>\n",
       "    </tr>\n",
       "    <tr>\n",
       "      <th>11</th>\n",
       "      <td>7</td>\n",
       "      <td>7</td>\n",
       "    </tr>\n",
       "    <tr>\n",
       "      <th>4</th>\n",
       "      <td>10</td>\n",
       "      <td>10</td>\n",
       "    </tr>\n",
       "    <tr>\n",
       "      <th>8</th>\n",
       "      <td>5</td>\n",
       "      <td>5</td>\n",
       "    </tr>\n",
       "    <tr>\n",
       "      <th>12</th>\n",
       "      <td>10</td>\n",
       "      <td>10</td>\n",
       "    </tr>\n",
       "    <tr>\n",
       "      <th>16</th>\n",
       "      <td>5</td>\n",
       "      <td>5</td>\n",
       "    </tr>\n",
       "    <tr>\n",
       "      <th>5</th>\n",
       "      <td>10</td>\n",
       "      <td>10</td>\n",
       "    </tr>\n",
       "    <tr>\n",
       "      <th>13</th>\n",
       "      <td>10</td>\n",
       "      <td>10</td>\n",
       "    </tr>\n",
       "    <tr>\n",
       "      <th>9</th>\n",
       "      <td>10</td>\n",
       "      <td>10</td>\n",
       "    </tr>\n",
       "  </tbody>\n",
       "</table>\n",
       "</div>"
      ],
      "text/plain": [
       "    start_map  first_start\n",
       "10          0            0\n",
       "15          0            0\n",
       "1           0            0\n",
       "2           0            0\n",
       "19          0            0\n",
       "0           0            0\n",
       "14          0            0\n",
       "17          0            0\n",
       "18          0            0\n",
       "6           0            0\n",
       "3           2            2\n",
       "7           2            2\n",
       "11          7            7\n",
       "4          10           10\n",
       "8           5            5\n",
       "12         10           10\n",
       "16          5            5\n",
       "5          10           10\n",
       "13         10           10\n",
       "9          10           10"
      ]
     },
     "execution_count": 294,
     "metadata": {},
     "output_type": "execute_result"
    }
   ],
   "source": [
    "preproc['first_start'] = np.asarray(preproc['first'])[np.asarray(preproc['start_map'])]\n",
    "preproc[['start_map', 'first_start']]"
   ]
  },
  {
   "cell_type": "markdown",
   "id": "9f727ad7-d245-413d-95bd-6901675bbe30",
   "metadata": {},
   "source": [
    "### Gradient\n",
    "\n",
    "Let's compute the derivative \n",
    "$$\n",
    "\\begin{aligned}\n",
    "\\frac{\\partial}{\\partial \\eta_k} \\ell(\\eta) &= \n",
    "w_k d_k - w_k e^{\\eta_k} \\cdot \\sum_{i=1}^n w_i d_i \\cdot \\frac{1_{\\{i \\leq \\text{last}(k)\\}} - \\delta_S \\cdot 1_{\\{i \\leq \\text{first\\_start}(k)-1 \\}}\n",
    "- \\delta_E \\cdot \\sigma_E(i) \\cdot \\left( 1_{\\{i \\leq \\text{last}(k)\\}} - 1_{\\{i \\leq \\text{first}(k)-1\\}}\\right)}{R_i(\\eta)}\n",
    "\\end{aligned}\n",
    "$$\n",
    "\n",
    "We see this can be expressed cumsums of the sequences\n",
    "$$\n",
    "\\frac{w_i d_i}{R_i(\\eta)}, \\qquad \\frac{w_i d_i \\sigma_E(i)}{R_i(\\eta)}.\n",
    "$$\n",
    "\n",
    "Define\n",
    "$$\n",
    "{\\cal C}_{rs}(\\eta)[i] = \\sum_{j=1}^i \\frac{w_i d_i \\sigma_E(i)^s}{R_i(\\eta)^r}.\n",
    "$$"
   ]
  },
  {
   "cell_type": "markdown",
   "id": "08d5a43c-0e48-49ad-8ef3-b88465effbd5",
   "metadata": {},
   "source": [
    "Our derivative above is\n",
    "$$\n",
    "w_k d_k - w_k e^{\\eta_k} \\left({\\cal C}_{10}(\\eta)[\\text{last}(k)] - \\delta_S \\cdot {\\cal C}_{10}(\\eta)[\\text{first\\_start}(k)-1] - \\delta_E \\cdot \\left({\\cal C}_{11}(\\eta)[\\text{last}(k)] - {\\cal C}_{11}(\\eta)[\\text{first}(k)-1] \\right) \\right)\n",
    "$$"
   ]
  },
  {
   "cell_type": "markdown",
   "id": "f761d123-02c3-4af2-a805-4835eeaa6a3d",
   "metadata": {},
   "source": [
    "### Hessian\n",
    "\n",
    "Let's compute the second\n",
    "derivative\n",
    "$$\n",
    "\\frac{\\partial^2}{\\partial \\eta_l \\eta_k} \\ell(\\eta)\n",
    "$$\n",
    "consists of two terms. The first is the diagonal\n",
    "$$\n",
    "T_{1,kl}(\\eta) = - \\delta_{lk} w_ke^{\\eta_k} \\left({\\cal C}_{10}(\\eta)[\\text{last}(k)] - \\delta_S \\cdot {\\cal C}_{10}(\\eta)[\\text{first\\_start}(k)-1] - \\delta_E \\cdot \\left({\\cal C}_{11}(\\eta)[\\text{last}(k)] - {\\cal C}_{11}(\\eta)[\\text{first}(k)-1] \\right) \\right)\n",
    "$$"
   ]
  },
  {
   "cell_type": "markdown",
   "id": "5e6f5608-5c32-4d19-979e-bd4af50f04c0",
   "metadata": {},
   "source": [
    "The second is\n",
    "$$\n",
    "\\begin{aligned}\n",
    "T_{2,kl}(\\eta) &= \\sum_{i=1}^n w_i d_i \\biggl[\\frac{\\left(1_{\\{i \\leq \\text{last}(k)\\}} - \\delta_S \\cdot 1_{\\{i \\leq \\text{first\\_start}(k) -1\\}}\n",
    "- \\delta_E \\cdot \\sigma_E(i) \\cdot \\left( 1_{\\{i \\leq \\text{last}(k)\\}} - 1_{\\{i \\leq \\text{first}(k)-1\\}}\\right)\\right) }{R_i(\\eta)} \\\\\n",
    " & \\qquad \\qquad \\times \\frac{\\left(1_{\\{i \\leq \\text{last}(l)\\}} - \\delta_S \\cdot 1_{\\{i \\leq \\text{first\\_start}(l) -1\\}}\n",
    "- \\delta_E \\cdot \\sigma_E(i) \\cdot \\left( 1_{\\{i \\leq \\text{last}(l)\\}} - 1_{\\{i \\leq \\text{first}(l)-1\\}}\\right)\\right) }{R_i(\\eta)}\n",
    "  \\biggr]\n",
    "\\end{aligned}\n",
    "$$"
   ]
  },
  {
   "cell_type": "markdown",
   "id": "d3c6ce31-20c3-4281-b15b-2c58d79af2eb",
   "metadata": {},
   "source": [
    "Without belaboring the expansion just yet, it is clear that this can be expressed in terms of\n",
    "$$\n",
    "\\left({\\cal C}_{rs}(\\eta)\\right)_{1 \\leq r \\leq 2, 1 \\leq s \\leq r}.\n",
    "$$\n",
    "\n",
    "### Diagonal of Hessian\n",
    "\n",
    "The diagonal terms $T_{2,kk}(\\eta)$ are\n",
    "$$\n",
    "\\begin{aligned}\n",
    "T_{2,kk}(\\eta) &= \\sum_{i=1}^n w_i d_i \\frac{\\left(1_{\\{i \\leq \\text{last}(k)\\}} - \\delta_S \\cdot 1_{\\{i \\leq \\text{first\\_start}(k)-1 \\}}\n",
    "- \\delta_E \\cdot \\sigma_E(i) \\cdot \\left( 1_{\\{i \\leq \\text{last}(k)\\}} - 1_{\\{i \\leq \\text{first}(k)-1\\}}\\right)\\right)^2 }{R_i(\\eta)^2} \n",
    "\\end{aligned}\n",
    "$$"
   ]
  },
  {
   "cell_type": "markdown",
   "id": "077752ca-348c-4da8-9413-cf5e8bd6e782",
   "metadata": {},
   "source": [
    "#### Expansion\n",
    "\n",
    "Let's expand the numerator in $T_{2,kl}(\\eta)$ which will tell us which indices of the\n",
    "relevant cumsums to use.\n",
    "$$\n",
    "\\begin{aligned}\n",
    "N_{kl} &= \\left(1_{\\{i \\leq \\text{last}(k)\\}} - \\delta_S \\cdot 1_{\\{i \\leq \\text{first\\_start}(k)-1 \\}}\n",
    "- \\delta_E \\cdot \\sigma_E(i) \\cdot \\left( 1_{\\{i \\leq \\text{last}(k)\\}} - 1_{\\{i \\leq \\text{first}(k)-1\\}}\\right)\\right) \\\\\n",
    "& \\qquad \\times \\left(1_{\\{i \\leq \\text{last}(l)\\}} - \\delta_S \\cdot 1_{\\{i \\leq \\text{first\\_start}(l)-1 \\}}\n",
    "- \\delta_E \\cdot \\sigma_E(i) \\cdot \\left( 1_{\\{i \\leq \\text{last}(l)\\}} - 1_{\\{i \\leq \\text{first}(l)-1\\}}\\right)\\right)\n",
    "\\end{aligned}\n",
    "$$ \n",
    "\n",
    "It will be handy to use a symbolic manipulation tool for this as there are many terms."
   ]
  },
  {
   "cell_type": "code",
   "execution_count": 295,
   "id": "92ac3e81-1361-434e-91b4-d23aa5dd1527",
   "metadata": {},
   "outputs": [],
   "source": [
    "from sympy import Symbol, Function, simplify, expand\n",
    "\n",
    "last_ = Function('last')\n",
    "start_ = Function('first_start')\n",
    "first_ = Function('first')\n",
    "k = Symbol('k')\n",
    "l = Symbol('l')\n",
    "s_E = Symbol('sigma_E')\n",
    "d_E = Symbol('delta_E')\n",
    "d_S = Symbol('delta_S')\n",
    "\n",
    "E_k = last_(k) - d_S * start_(k-1) - d_E * s_E * (last_(k) - first_(k-1))"
   ]
  },
  {
   "cell_type": "code",
   "execution_count": 296,
   "id": "05acb020-74c9-40b7-bf45-39a3585fd840",
   "metadata": {},
   "outputs": [
    {
     "data": {
      "text/plain": [
       "[delta_E**2*sigma_E**2*first(k - 1)**2,\n",
       " -2*delta_E**2*sigma_E**2*first(k - 1)*last(k),\n",
       " delta_E**2*sigma_E**2*last(k)**2,\n",
       " -2*delta_E*delta_S*sigma_E*first(k - 1)*first_start(k - 1),\n",
       " 2*delta_E*delta_S*sigma_E*first_start(k - 1)*last(k),\n",
       " 2*delta_E*sigma_E*first(k - 1)*last(k),\n",
       " -2*delta_E*sigma_E*last(k)**2,\n",
       " delta_S**2*first_start(k - 1)**2,\n",
       " -2*delta_S*first_start(k - 1)*last(k),\n",
       " last(k)**2]"
      ]
     },
     "execution_count": 296,
     "metadata": {},
     "output_type": "execute_result"
    }
   ],
   "source": [
    "diag_prod = expand(E_k * E_k)\n",
    "diag_prod.as_ordered_terms()"
   ]
  },
  {
   "cell_type": "markdown",
   "id": "36035d3b-8e62-4b8f-8fb1-676636203788",
   "metadata": {},
   "source": [
    "This list of terms can be used to deduce which ${\\cal C}_{rs}(\\eta)$ are needed\n",
    "to compute the diagonal. Of course we use the logic that `delta_E**2=delta_E`,\n",
    "`delta_S**2=delta_S` and whenever we see terms like $\\text{last}(k)*\\text{first}(k-1)$ or\n",
    "similar this becomes\n",
    "$$\n",
    "1_{\\{i \\leq \\min(\\text{last}(k), \\text{first}(k)-1)\\}} = 1_{\\{i \\leq \\text{first}(k)-1\\}}.\n",
    "$$\n",
    "\n",
    "If we were clever, we could try to take the above symbolic representation and turn it into \n",
    "correct LaTeX but it is not too painful to do by hand."
   ]
  },
  {
   "cell_type": "markdown",
   "id": "b64c988f-f27b-4f60-b3fe-fe5060bc4f7f",
   "metadata": {},
   "source": [
    "#### Simplification: right censored with Breslow's method\n",
    "\n",
    "By setting $\\delta_S$ or $\\delta_E$ to 0, these expressions symplify considerably.\n",
    "Let's try setting $\\delta_S=\\delta_E=0$. This is right-censored data with Breslow's tie-breaking.\n",
    "This has no $\\sigma_E$ in it, so we know we only need ${\\cal C}_{10}$ and ${\\cal C}_{20}$ to compute it."
   ]
  },
  {
   "cell_type": "code",
   "execution_count": 297,
   "id": "9bc70ac0-f9c1-4d62-95cb-7b32fa13db15",
   "metadata": {},
   "outputs": [
    {
     "data": {
      "text/plain": [
       "[last(k)**2]"
      ]
     },
     "execution_count": 297,
     "metadata": {},
     "output_type": "execute_result"
    }
   ],
   "source": [
    "diag_prod.subs(d_E,0).subs(d_S,0).as_ordered_terms()"
   ]
  },
  {
   "cell_type": "markdown",
   "id": "cf95299d-78bd-4200-a497-040265d45d0e",
   "metadata": {},
   "source": [
    "From this we deduce that the diagonal entries for right-censored data with\n",
    "Breslow's tie breaking are:\n",
    "$$\n",
    "T_{2,kk}(\\eta) = {\\cal C}_{20}(\\eta)[\\text{last}(k)]\n",
    "$$"
   ]
  },
  {
   "cell_type": "markdown",
   "id": "24aca8c9-34d3-41ec-84d9-da498052fcaf",
   "metadata": {},
   "source": [
    "#### Simplification: start times with Breslow's method\n",
    "\n",
    "Let's do Breslow's tie breaking with start times."
   ]
  },
  {
   "cell_type": "code",
   "execution_count": 298,
   "id": "1ccf582c-dd17-470a-a0e0-1e8131318678",
   "metadata": {},
   "outputs": [
    {
     "data": {
      "text/plain": [
       "[first_start(k - 1)**2, -2*first_start(k - 1)*last(k), last(k)**2]"
      ]
     },
     "execution_count": 298,
     "metadata": {},
     "output_type": "execute_result"
    }
   ],
   "source": [
    "diag_prod.subs(d_E,0).subs(d_S, 1).as_ordered_terms()"
   ]
  },
  {
   "cell_type": "markdown",
   "id": "2f286d1a-7d1f-40b1-beb1-24230b08fb05",
   "metadata": {},
   "source": [
    "As $\\text{first\\_start}(k) \\leq \\text{last}(k)$ we see that, in this case\n",
    "$$\n",
    "T_{2,kk}(\\eta) = C_{20}(\\eta)[\\text{last}(k)] - C_{20}(\\eta)[\\text{first\\_start}(k)-1].\n",
    "$$"
   ]
  },
  {
   "cell_type": "markdown",
   "id": "05e10b6e-011d-4397-b782-517a0513b361",
   "metadata": {},
   "source": [
    "#### Simplification: right-censored with Efron's tie-breaking:"
   ]
  },
  {
   "cell_type": "code",
   "execution_count": 299,
   "id": "988cb1cd-00c6-4a14-a00a-4125a43ce06b",
   "metadata": {},
   "outputs": [
    {
     "data": {
      "text/plain": [
       "[sigma_E**2*first(k - 1)**2,\n",
       " -2*sigma_E**2*first(k - 1)*last(k),\n",
       " sigma_E**2*last(k)**2,\n",
       " 2*sigma_E*first(k - 1)*last(k),\n",
       " -2*sigma_E*last(k)**2,\n",
       " last(k)**2]"
      ]
     },
     "execution_count": 299,
     "metadata": {},
     "output_type": "execute_result"
    }
   ],
   "source": [
    "diag_prod.subs(d_S,0).subs(d_E, 1).as_ordered_terms()"
   ]
  },
  {
   "cell_type": "markdown",
   "id": "4f7b7c11-3f63-4475-8c71-0646b5100e3c",
   "metadata": {},
   "source": [
    "This has powers $\\sigma_E^{\\{0,1,2\\}}$ so we will need all 5 ${\\cal C}_{rs}$ cumsums to evaluate\n",
    "it and the gradient.\n",
    "For this case,\n",
    "$$\n",
    "\\begin{aligned}\n",
    "T_{2,kk}(\\eta) &= {\\cal C}_{22}(\\eta)[\\text{first}(k)-1] \\\\\n",
    "& -2 \\cdot {\\cal C}_{22}(\\eta)[\\text{first}(k)-1] \\\\\n",
    "& + {\\cal C}_{22}(\\eta)[\\text{last}(k)] \\\\\n",
    "& + 2 \\cdot {\\cal C}_{21}(\\eta)[\\text{first}(k)-1] \\\\\n",
    "& -2 \\cdot {\\cal C}_{21}(\\eta)[\\text{last}(k)] \\\\\n",
    "& + {\\cal C}_{20}(\\eta)[\\text{last}(k)] \\\\\n",
    "&= ({\\cal C}_{22}(\\eta)[\\text{last}(k)] - {\\cal C}_{22}(\\eta)[\\text{first}(k)-1]) \\\\\n",
    "& - 2 \\cdot ({\\cal C}_{21}(\\eta)[\\text{last}(k)] - {\\cal C}_{21}(\\eta)[\\text{first}(k)-1]) \\\\\n",
    "& + {\\cal C}_{20}(\\eta)[\\text{last}(k)] \\\\\n",
    "\\end{aligned}\n",
    "$$"
   ]
  },
  {
   "cell_type": "markdown",
   "id": "38c4038d-6a0a-4638-ae48-5a1c1b3ea8ea",
   "metadata": {},
   "source": [
    "#### General case"
   ]
  },
  {
   "cell_type": "code",
   "execution_count": 300,
   "id": "e1122541-ef25-4010-936f-735d80204007",
   "metadata": {},
   "outputs": [
    {
     "data": {
      "text/plain": [
       "[sigma_E**2*first(k - 1)**2,\n",
       " -2*sigma_E**2*first(k - 1)*last(k),\n",
       " sigma_E**2*last(k)**2,\n",
       " -2*sigma_E*first(k - 1)*first_start(k - 1),\n",
       " 2*sigma_E*first(k - 1)*last(k),\n",
       " 2*sigma_E*first_start(k - 1)*last(k),\n",
       " -2*sigma_E*last(k)**2,\n",
       " first_start(k - 1)**2,\n",
       " -2*first_start(k - 1)*last(k),\n",
       " last(k)**2]"
      ]
     },
     "execution_count": 300,
     "metadata": {},
     "output_type": "execute_result"
    }
   ],
   "source": [
    "diag_prod.subs(d_S,1).subs(d_E, 1).as_ordered_terms()"
   ]
  },
  {
   "cell_type": "markdown",
   "id": "aa85b2e3-2128-4c60-b1d1-4b71cd123278",
   "metadata": {},
   "source": [
    "This will have a few more terms than previous. Let's just see which they are."
   ]
  },
  {
   "cell_type": "code",
   "execution_count": 301,
   "id": "b92f1b0d-bee2-4b3d-b1d2-a6ac57edbc12",
   "metadata": {},
   "outputs": [],
   "source": [
    "full = set(diag_prod.subs(d_S,1).subs(d_E, 1).as_ordered_terms())\n",
    "partial = set(diag_prod.subs(d_S,0).subs(d_E, 1).as_ordered_terms())\n",
    "assert partial.issubset(full)"
   ]
  },
  {
   "cell_type": "code",
   "execution_count": 302,
   "id": "74125301-735b-4ce3-96f4-116f7b8e0093",
   "metadata": {},
   "outputs": [
    {
     "data": {
      "text/plain": [
       "{-2*first_start(k - 1)*last(k),\n",
       " -2*sigma_E*first(k - 1)*first_start(k - 1),\n",
       " 2*sigma_E*first_start(k - 1)*last(k),\n",
       " first_start(k - 1)**2}"
      ]
     },
     "execution_count": 302,
     "metadata": {},
     "output_type": "execute_result"
    }
   ],
   "source": [
    "full.difference(partial)"
   ]
  },
  {
   "cell_type": "markdown",
   "id": "5882fe80-18c7-4f48-ba74-feee4739324d",
   "metadata": {},
   "source": [
    "By appending these terms to those above,  and we note  that $\\text{first\\_start}(k)-1 \\leq \\text{first}(k)-1$ (Why? Because $\\text{start}(k)<k$ and $\\text{first}$ is non-decreasing.) \n",
    "Therefore\n",
    "$$\n",
    "\\begin{aligned}\n",
    "T_{2,kk}(\\eta)  &= ({\\cal C}_{22}(\\eta)[\\text{last}(k)] - {\\cal C}_{22}(\\eta)[\\text{first}(k)-1]) \\\\\n",
    "& - 2 \\cdot ({\\cal C}_{21}(\\eta)[\\text{last}(k)] - {\\cal C}_{21}(\\eta)[\\text{first}(k)-1]) \\\\\n",
    "& + {\\cal C}_{20}(\\eta)[\\text{last}(k)] \\\\\n",
    "& - 2 \\cdot {\\cal C}_{20}(\\eta)[\\text{first\\_start}(k)-1] \\\\\n",
    "& - 2 \\cdot {\\cal C}_{21}(\\eta)[\\text{first\\_start}(k)-1] \\\\\n",
    "& + 2 \\cdot {\\cal C}_{21}(\\eta)[\\text{first\\_start}(k)-1] \\\\\n",
    "& + {\\cal C}_{20}(\\eta)[\\text{first\\_start}(k)-1] \\\\\n",
    "&=  ({\\cal C}_{22}(\\eta)[\\text{last}(k)] - {\\cal C}_{22}(\\eta)[\\text{first}(k)-1]) \\\\\n",
    "& - 2 \\cdot ({\\cal C}_{21}(\\eta)[\\text{last}(k)] - {\\cal C}_{21}(\\eta)[\\text{first}(k)-1]) \\\\\n",
    "& + {\\cal C}_{20}(\\eta)[\\text{last}(k)] - {\\cal C}_{20}(\\eta)[\\text{first\\_start}(k)-1]\n",
    "\\end{aligned}\n",
    "$$"
   ]
  },
  {
   "cell_type": "markdown",
   "id": "6ebe27c1-b26b-4ce4-a9b0-00c6019e219a",
   "metadata": {},
   "source": [
    "#### Off-diagonal Hessian entries\n",
    "\n",
    "We can similarly deduce how to evaluate off-diagonal entries of the Hessian, though\n",
    "we have not implemented all of these yet."
   ]
  },
  {
   "cell_type": "code",
   "execution_count": 303,
   "id": "adf9476b-358d-408f-a29c-2dfd6cb3d19b",
   "metadata": {},
   "outputs": [
    {
     "data": {
      "text/plain": [
       "[delta_E**2*sigma_E**2*first(k - 1)*first(l - 1),\n",
       " -delta_E**2*sigma_E**2*first(k - 1)*last(l),\n",
       " -delta_E**2*sigma_E**2*first(l - 1)*last(k),\n",
       " delta_E**2*sigma_E**2*last(k)*last(l),\n",
       " -delta_E*delta_S*sigma_E*first(k - 1)*first_start(l),\n",
       " -delta_E*delta_S*sigma_E*first(l - 1)*first_start(k - 1),\n",
       " delta_E*delta_S*sigma_E*first_start(l)*last(k),\n",
       " delta_E*delta_S*sigma_E*first_start(k - 1)*last(l),\n",
       " delta_E*sigma_E*first(k - 1)*last(l),\n",
       " delta_E*sigma_E*first(l - 1)*last(k),\n",
       " -2*delta_E*sigma_E*last(k)*last(l),\n",
       " delta_S**2*first_start(l)*first_start(k - 1),\n",
       " -delta_S*first_start(l)*last(k),\n",
       " -delta_S*first_start(k - 1)*last(l),\n",
       " last(k)*last(l)]"
      ]
     },
     "execution_count": 303,
     "metadata": {},
     "output_type": "execute_result"
    }
   ],
   "source": [
    "E_l = last_(l) - d_S * start_(l) - d_E * s_E * (last_(l) - first_(l-1))\n",
    "prod = expand(E_k * E_l)\n",
    "prod.as_ordered_terms()"
   ]
  },
  {
   "cell_type": "markdown",
   "id": "6462e965-dced-4a51-a1dd-9e40ef697559",
   "metadata": {},
   "source": [
    "## Evaluation\n",
    "\n",
    "Here we compute the saturated log-likelihood."
   ]
  },
  {
   "cell_type": "code",
   "execution_count": 304,
   "id": "ad4d7b37-dbcc-4210-b9ad-6c380b776bfc",
   "metadata": {},
   "outputs": [
    {
     "name": "stdout",
     "output_type": "stream",
     "text": [
      "def _compute_sat_loglik(_first,\n",
      "                        _last,\n",
      "                        _weight, # in natural order\n",
      "                        _event_order,\n",
      "                        _status):\n",
      "    \n",
      "    _first = np.asarray(_first)\n",
      "    _last = np.asarray(_last)\n",
      "    _weight = np.asarray(_weight)\n",
      "    _event_order = np.asarray(_event_order)\n",
      "    _status = np.asarray(_status)\n",
      "\n",
      "    W_status = np.cumsum(np.hstack([0, _weight[_event_order] * _status]))\n",
      "    sums = W_status[_last+1] - W_status[_first]\n",
      "    loglik_sat = 0\n",
      "    prev_first = -1\n",
      "    for f, s in zip(_first, sums):\n",
      "        if s > 0 and f != prev_first:\n",
      "            loglik_sat -= s * np.log(s)\n",
      "        prev_first = f\n",
      "\n",
      "    return loglik_sat\n",
      "\n"
     ]
    }
   ],
   "source": [
    "print(inspect.getsource(_compute_sat_loglik))"
   ]
  },
  {
   "cell_type": "code",
   "execution_count": 305,
   "id": "f039b5ba-e34e-4579-8b04-19dc16ee6c5d",
   "metadata": {},
   "outputs": [
    {
     "data": {
      "text/plain": [
       "-21.747664708385678"
      ]
     },
     "execution_count": 305,
     "metadata": {},
     "output_type": "execute_result"
    }
   ],
   "source": [
    "loglik_sat = _compute_sat_loglik(preproc['first'],\n",
    "                                 preproc['last'],\n",
    "                                 data_df['weight'],\n",
    "                                 event_order,\n",
    "                                 preproc['status'])\n",
    "\n",
    "loglik_sat"
   ]
  },
  {
   "cell_type": "markdown",
   "id": "2929ecce-0f00-46c6-af54-235d9ea2e472",
   "metadata": {},
   "source": [
    "Below is the evaluation in `python` code that is similar to what the `C` code will look like."
   ]
  },
  {
   "cell_type": "code",
   "execution_count": 306,
   "id": "8fdb6738-6767-4e88-ad69-6209de907ce1",
   "metadata": {},
   "outputs": [
    {
     "name": "stdout",
     "output_type": "stream",
     "text": [
      "def _cox_dev(eta,           # eta is in native order \n",
      "             sample_weight, # sample_weight is in native order\n",
      "             event_order,   \n",
      "             start_order,\n",
      "             status,        # everything below in event order\n",
      "             event,\n",
      "             start,\n",
      "             first,\n",
      "             last,\n",
      "             scaling,\n",
      "             event_map,\n",
      "             start_map,\n",
      "             first_start,\n",
      "             loglik_sat,\n",
      "             have_start_times=True,\n",
      "             efron=False,\n",
      "             asarray=True):\n",
      "\n",
      "    # be sure they're arrays so that no weird pandas indexing is used\n",
      "\n",
      "    if asarray:\n",
      "        eta = np.asarray(eta)\n",
      "        sample_weight = np.asarray(sample_weight)\n",
      "        event_order = np.asarray(event_order)   \n",
      "        start_order = np.asarray(start_order)\n",
      "        status = np.asarray(status)\n",
      "        event = np.asarray(event)\n",
      "        start = np.asarray(start)\n",
      "        first = np.asarray(first)\n",
      "        last = np.asarray(last)\n",
      "        scaling = np.asarray(scaling)\n",
      "        event_map = np.asarray(event_map)\n",
      "        start_map = np.asarray(start_map)\n",
      "        first_start = np.asarray(first_start)\n",
      "    _status = (status==1)\n",
      "    \n",
      "    eta = eta - eta.mean()\n",
      "    \n",
      "    # compute the event ordered reversed cumsum\n",
      "    eta_event = eta[event_order]\n",
      "    w_event = sample_weight[event_order]\n",
      "    exp_eta_w_event = w_event * np.exp(eta_event)\n",
      "    event_cumsum = np.hstack([np.cumsum(exp_eta_w_event[::-1])[::-1], 0]) # length=n+1 for when last=n-1\n",
      "\n",
      "    # compute the start oredered reversed cumsum, if necessary\n",
      "    # then compute the cumsums (or difference of cumsums) for Breslow approximation\n",
      "    \n",
      "    if have_start_times:\n",
      "        exp_eta_w_start = np.hstack([(sample_weight * np.exp(eta))[start_order], 0]) # length=n+1\n",
      "        start_cumsum = np.cumsum(exp_eta_w_start[::-1])[::-1]  # length=n+1\n",
      "        risk_sums = event_cumsum[first] - start_cumsum[event_map]\n",
      "    else:\n",
      "        risk_sums = event_cumsum[first]\n",
      "        \n",
      "    # compute the Efron correction, adjusting risk_sum if necessary\n",
      "    \n",
      "    if efron == True:\n",
      "        # XXXXX is last term handled correctly?\n",
      "        n = eta.shape[0]\n",
      "        num = (event_cumsum[first] - \n",
      "               event_cumsum[last+1])\n",
      "        risk_sums -= num * scaling\n",
      "    \n",
      "    log_terms = np.log(np.array(risk_sums)) * w_event * _status\n",
      "    loglik = (w_event * eta_event * _status).sum() - np.sum(log_terms)\n",
      "\n",
      "    # cumsums for gradient and Hessian\n",
      "    \n",
      "    # length of cumsums is n+1\n",
      "    # 0 is prepended for first(k)-1, start(k)-1 lookups\n",
      "    # a 1 is added to all indices\n",
      "\n",
      "    A_10 = _status * w_event / risk_sums\n",
      "    C_10 = np.hstack([0, np.cumsum(A_10)]) \n",
      "    \n",
      "    A_20 = _status * w_event / risk_sums**2\n",
      "    C_20 = np.hstack([0, np.cumsum(A_20)]) # length=n+1\n",
      "\n",
      "    # if there are no ties, scaling should be identically 0\n",
      "    # don't bother with cumsums below \n",
      "\n",
      "    use_first_start = True # JT: think this is strictly needed\n",
      "                           # but haven't found a counterexample\n",
      "\n",
      "    if not efron:\n",
      "        if have_start_times:\n",
      "\n",
      "            # +1 for start_map? depends on how  \n",
      "            # a tie between a start time and an event time\n",
      "            # if that means the start individual is excluded\n",
      "            # we should add +1, otherwise there should be\n",
      "            # no +1 in the [start_map+1] above\n",
      "\n",
      "            if use_first_start:\n",
      "                T_1_term = C_10[last+1] - C_10[first_start]\n",
      "                T_2_term = C_20[last+1] - C_20[first_start]\n",
      "            else:\n",
      "                T_1_term = C_10[last+1] - C_10[start_map]\n",
      "                T_2_term = C_20[last+1] - C_20[start_map]\n",
      "        else:\n",
      "            T_1_term = C_10[last+1]\n",
      "            T_2_term = C_20[last+1]\n",
      "    else:\n",
      "        # compute the other necessary cumsums\n",
      "        \n",
      "        A_11 = _status * w_event * scaling / risk_sums\n",
      "        C_11 = np.hstack([0, np.cumsum(A_11)]) # length=n+1\n",
      "\n",
      "        A_21 = _status * w_event * scaling / risk_sums\n",
      "        C_21 = np.hstack([0, np.cumsum(A_21)]) # length=n+1\n",
      "\n",
      "        A_22 = _status * w_event * scaling / risk_sums\n",
      "        C_22 = np.hstack([0, np.cumsum(A_22)]) # length=n+1\n",
      "\n",
      "        T_1_term = (C_10[last+1] - \n",
      "                    (C_11[last+1] - C_11[first]))\n",
      "        T_2_term = ((C_22[last+1] - C_22[first]) \n",
      "                    - 2 * (C_21[last+1] - C_21[first]) + \n",
      "                    C_20[last+1])\n",
      "        if have_start_times:\n",
      "            if use_first_start:\n",
      "                T_1_term -= C_10[first_start]\n",
      "            else:\n",
      "                T_1_term -= C_10[start_map]\n",
      "            T_2_term -= C_20[first]\n",
      "    \n",
      "    grad = w_event * _status - exp_eta_w_event * T_1_term\n",
      "    grad_cp = grad.copy()\n",
      "    grad[event_order] = grad_cp\n",
      "\n",
      "    # now the diagonal of the Hessian\n",
      "\n",
      "    diag_hess = exp_eta_w_event**2 * T_2_term - exp_eta_w_event * T_1_term\n",
      "    diag_hess_cp = diag_hess.copy()\n",
      "    diag_hess[event_order] = diag_hess_cp\n",
      "\n",
      "    deviance = 2 * (loglik_sat - loglik)\n",
      "    return loglik_sat, deviance, -2 * grad, -2 * diag_hess\n",
      "\n"
     ]
    }
   ],
   "source": [
    "print(inspect.getsource(_cox_dev))"
   ]
  },
  {
   "cell_type": "code",
   "execution_count": 307,
   "id": "da89c73a-5811-469b-a5cd-4036a5315dc8",
   "metadata": {},
   "outputs": [],
   "source": [
    "eta = data_df['eta'] # in native order\n",
    "_, dev, G, H = _cox_dev(eta,\n",
    "                        data_df['weight'],\n",
    "                        event_order,\n",
    "                        start_order,\n",
    "                        preproc['status'],\n",
    "                        preproc['event'],\n",
    "                        preproc['start'],\n",
    "                        preproc['first'],\n",
    "                        preproc['last'],\n",
    "                        preproc['scaling'],\n",
    "                        preproc['event_map'],\n",
    "                        preproc['start_map'],\n",
    "                        preproc['first_start'],\n",
    "                        loglik_sat,\n",
    "                        efron=False,\n",
    "                        have_start_times=True)"
   ]
  },
  {
   "cell_type": "code",
   "execution_count": 308,
   "id": "b17b488d-7847-44ab-b7f8-1339eee72095",
   "metadata": {},
   "outputs": [
    {
     "name": "stdout",
     "output_type": "stream",
     "text": [
      "The rpy2.ipython extension is already loaded. To reload it, use:\n",
      "  %reload_ext rpy2.ipython\n"
     ]
    }
   ],
   "source": [
    "import rpy2\n",
    "%load_ext rpy2.ipython\n",
    "start = data_df['start'].copy()\n",
    "event = data_df['event'].copy()\n",
    "status = data_df['status'].copy()\n",
    "weight = data_df['weight'].copy()\n",
    "%R -i start,event,status,eta,weight"
   ]
  },
  {
   "cell_type": "code",
   "execution_count": 309,
   "id": "85a383ab-0110-40b6-aa86-847761e4c295",
   "metadata": {},
   "outputs": [],
   "source": [
    "%%R -o G_R,H_R,D_R\n",
    "library(survival)\n",
    "library(glmnet)\n",
    "Y = Surv(start, event, status)\n",
    "D_R = glmnet:::coxnet.deviance3(pred=eta, y=Y, weight=weight, std.weights=FALSE)\n",
    "# glmnet computes grad and hessian of the log-likelihood, not deviance\n",
    "# need to multiply by -2 to get grad and hessian of deviance\n",
    "G_R = glmnet:::coxgrad3(eta, Y, weight, std.weights=FALSE, diag.hessian=TRUE)\n",
    "H_R = attr(G_R, 'diag_hessian')\n",
    "G_R = -2 * G_R\n",
    "H_R = -2 * H_R"
   ]
  },
  {
   "cell_type": "code",
   "execution_count": 310,
   "id": "db094531-4612-4ba2-b565-c55af1352789",
   "metadata": {},
   "outputs": [
    {
     "data": {
      "text/plain": [
       "array([0.])"
      ]
     },
     "execution_count": 310,
     "metadata": {},
     "output_type": "execute_result"
    }
   ],
   "source": [
    "np.fabs(dev - D_R)"
   ]
  },
  {
   "cell_type": "code",
   "execution_count": 311,
   "id": "dad83cab-77e2-455d-a52b-267b82235095",
   "metadata": {},
   "outputs": [
    {
     "data": {
      "text/plain": [
       "1.5988084839017743e-16"
      ]
     },
     "execution_count": 311,
     "metadata": {},
     "output_type": "execute_result"
    }
   ],
   "source": [
    "np.linalg.norm(G-G_R)/ np.linalg.norm(G)"
   ]
  },
  {
   "cell_type": "code",
   "execution_count": 312,
   "id": "b761dd6a-bbb3-4a30-9be5-523eb20b3aa3",
   "metadata": {},
   "outputs": [
    {
     "data": {
      "text/plain": [
       "1.132529836387499e-16"
      ]
     },
     "execution_count": 312,
     "metadata": {},
     "output_type": "execute_result"
    }
   ],
   "source": [
    "np.linalg.norm(H-H_R) / np.linalg.norm(H)"
   ]
  },
  {
   "cell_type": "markdown",
   "id": "5850f5c3-24b5-4b7c-84c0-ceb44bb82724",
   "metadata": {},
   "source": [
    "## Using `CoxDeviance`"
   ]
  },
  {
   "cell_type": "code",
   "execution_count": 313,
   "id": "c4d773bd-128a-4eb4-abe2-50534ea92920",
   "metadata": {},
   "outputs": [],
   "source": [
    "coxdev_ = CoxDeviance(event,\n",
    "                      status,\n",
    "                      start=start,\n",
    "                      tie_breaking='breslow')\n",
    "from dataclasses import astuple\n",
    "_, dev_, G_, H_, _ = astuple(coxdev_(eta, \n",
    "                          weight))"
   ]
  },
  {
   "cell_type": "code",
   "execution_count": 314,
   "id": "1f2fb099-3780-4f71-bf68-3b134e6667de",
   "metadata": {},
   "outputs": [
    {
     "data": {
      "text/plain": [
       "0.0"
      ]
     },
     "execution_count": 314,
     "metadata": {},
     "output_type": "execute_result"
    }
   ],
   "source": [
    "np.fabs(dev - dev_)"
   ]
  },
  {
   "cell_type": "code",
   "execution_count": 315,
   "id": "4e1afa96-954a-47ce-8237-a889ea32b199",
   "metadata": {},
   "outputs": [
    {
     "data": {
      "text/plain": [
       "0.0"
      ]
     },
     "execution_count": 315,
     "metadata": {},
     "output_type": "execute_result"
    }
   ],
   "source": [
    "np.linalg.norm(G-G_)/ np.linalg.norm(G)"
   ]
  },
  {
   "cell_type": "code",
   "execution_count": 316,
   "id": "d09dc472-254e-4826-acf6-daea1508ae36",
   "metadata": {},
   "outputs": [
    {
     "data": {
      "text/plain": [
       "0.0"
      ]
     },
     "execution_count": 316,
     "metadata": {},
     "output_type": "execute_result"
    }
   ],
   "source": [
    "np.linalg.norm(H-H_) / np.linalg.norm(H)"
   ]
  },
  {
   "cell_type": "markdown",
   "id": "1feb6be3-4732-4fa9-8283-2658b5fd95d0",
   "metadata": {},
   "source": [
    "## Larger data sets"
   ]
  },
  {
   "cell_type": "code",
   "execution_count": 317,
   "id": "0a0ad946-43d6-47db-aae9-09350148ee5d",
   "metadata": {},
   "outputs": [],
   "source": [
    "ties = True\n",
    "n = 10\n",
    "rng = np.random.default_rng(0)\n",
    "start = rng.integers(0, 10, size=n) \n",
    "event = start + rng.integers(0, 10, size=n) + ties + (1 - ties) * rng.standard_exponential(n) * 0.01\n",
    "status = rng.choice([0,1], size=n, replace=True)\n",
    "weight = rng.uniform(1, 2, size=n)\n",
    "eta = rng.standard_normal(n)"
   ]
  },
  {
   "cell_type": "code",
   "execution_count": 335,
   "id": "ebf3bca7-953a-4ab6-b296-550e8ddba9d5",
   "metadata": {},
   "outputs": [],
   "source": [
    "def get_R_result(event, status, start, eta, weight):\n",
    "\n",
    "    %R -i event,status,start,eta,weight \n",
    "    %R eta = as.numeric(eta)\n",
    "    %R weight = as.numeric(weight)\n",
    "\n",
    "    if start is not None:\n",
    "        %R Y = Surv(start, event, status)\n",
    "        %R print(system.time(for (i in 1:400) {c(rnorm(length(eta)), glmnet:::coxnet.deviance3(pred=eta, y=Y, weight=weight, std.weights=FALSE), glmnet:::coxgrad3(eta, Y, weight, std.weights=FALSE, diag.hessian=TRUE))}))\n",
    "        %R D_R = glmnet:::coxnet.deviance3(pred=eta, y=Y, weight=weight, std.weights=FALSE)\n",
    "        %R G_R = glmnet:::coxgrad3(eta, Y, weight, std.weights=FALSE, diag.hessian=TRUE)\n",
    "    else:\n",
    "        %R Y = Surv(event, status)\n",
    "        %R print(system.time(for (i in 1:400) {c(rnorm(length(eta)), glmnet:::coxnet.deviance2(pred=eta, y=Y, weight=weight, std.weights=FALSE), glmnet:::coxgrad2(eta, Y, weight, std.weights=FALSE, diag.hessian=TRUE))}))\n",
    "        %R D_R = glmnet:::coxnet.deviance2(pred=eta, y=Y, weight=weight, std.weights=FALSE)\n",
    "        %R G_R = glmnet:::coxgrad2(eta, Y, weight, std.weights=FALSE, diag.hessian=TRUE)\n",
    "    \n",
    "    %R H_R = attr(G_R, 'diag_hessian')\n",
    "    %R G_R = -2 * G_R\n",
    "    %R H_R = -2 * H_R\n",
    "    %R -o D_R,H_R,G_R\n",
    "    return D_R, G_R, H_R"
   ]
  },
  {
   "cell_type": "code",
   "execution_count": 336,
   "id": "23a0f717-b26c-4142-8fbd-501d8aa13120",
   "metadata": {
    "scrolled": true
   },
   "outputs": [
    {
     "name": "stdout",
     "output_type": "stream",
     "text": [
      "32.1 ms ± 310 µs per loop (mean ± std. dev. of 7 runs, 10 loops each)\n"
     ]
    }
   ],
   "source": [
    "%%timeit\n",
    "coxdev_ = CoxDeviance(event,\n",
    "                      status,\n",
    "                      start=start,\n",
    "                      tie_breaking='breslow')\n",
    "loglik_sat, dev, G, H, _  = astuple(coxdev_(eta, weight))\n",
    "[coxdev_(rng.standard_normal(eta.shape), weight) for _ in range(400)]"
   ]
  },
  {
   "cell_type": "code",
   "execution_count": 337,
   "id": "2d2d184d-91d6-4d0b-a0ec-dc5def7c2d5c",
   "metadata": {},
   "outputs": [],
   "source": [
    "coxdev_ = CoxDeviance(event,\n",
    "                      status,\n",
    "                      start=start,\n",
    "                      tie_breaking='breslow')\n",
    "_, dev_, G_, H_, _  = astuple(coxdev_(eta, \n",
    "                          weight))"
   ]
  },
  {
   "cell_type": "code",
   "execution_count": 338,
   "id": "0f5fcbfe-e4af-4405-b41d-3f7292f46fd4",
   "metadata": {},
   "outputs": [
    {
     "name": "stdout",
     "output_type": "stream",
     "text": [
      "   user  system elapsed \n",
      "  0.046   0.000   0.046 \n"
     ]
    }
   ],
   "source": [
    "D_R, G_R, H_R = get_R_result(event, status, start, eta, weight)"
   ]
  },
  {
   "cell_type": "code",
   "execution_count": 339,
   "id": "388ec99a-3a99-40cf-ba01-11eb3cfdb904",
   "metadata": {},
   "outputs": [
    {
     "data": {
      "text/plain": [
       "array([0.])"
      ]
     },
     "execution_count": 339,
     "metadata": {},
     "output_type": "execute_result"
    }
   ],
   "source": [
    "np.fabs(dev_ - D_R)"
   ]
  },
  {
   "cell_type": "code",
   "execution_count": 340,
   "id": "dbfd0c5d-117d-44c8-ace3-a9f2aa3cdace",
   "metadata": {},
   "outputs": [
    {
     "data": {
      "text/plain": [
       "6.316116989197001e-17"
      ]
     },
     "execution_count": 340,
     "metadata": {},
     "output_type": "execute_result"
    }
   ],
   "source": [
    "np.linalg.norm(G_-G_R) / np.linalg.norm(G)"
   ]
  },
  {
   "cell_type": "code",
   "execution_count": 341,
   "id": "c4aaadd0-6810-4c22-a150-02d1e793c9df",
   "metadata": {},
   "outputs": [
    {
     "data": {
      "text/plain": [
       "0.0"
      ]
     },
     "execution_count": 341,
     "metadata": {},
     "output_type": "execute_result"
    }
   ],
   "source": [
    "np.linalg.norm(H_-H_R) / np.linalg.norm(H)"
   ]
  },
  {
   "cell_type": "markdown",
   "id": "93f784f2-5de0-4092-a11a-31987afed4b2",
   "metadata": {},
   "source": [
    "## Right censored"
   ]
  },
  {
   "cell_type": "code",
   "execution_count": 342,
   "id": "9e971129-2f04-4df4-b520-c19827b8924f",
   "metadata": {},
   "outputs": [
    {
     "name": "stdout",
     "output_type": "stream",
     "text": [
      "29.5 ms ± 165 µs per loop (mean ± std. dev. of 7 runs, 10 loops each)\n"
     ]
    }
   ],
   "source": [
    "%%timeit\n",
    "coxdev_ = CoxDeviance(event,\n",
    "                      status,\n",
    "                      tie_breaking='breslow')\n",
    "loglik_sat, dev, G, H, _ = astuple(coxdev_(eta, weight))\n",
    "[coxdev_(rng.standard_normal(eta.shape), weight) for _ in range(400)]"
   ]
  },
  {
   "cell_type": "code",
   "execution_count": 343,
   "id": "ba0147bf-b424-41e6-a31e-a1e5a3a7fe35",
   "metadata": {},
   "outputs": [],
   "source": [
    "coxdev_ = CoxDeviance(event,\n",
    "                      status,\n",
    "                      tie_breaking='breslow')\n",
    "_, dev_, G_, H_, _  = astuple(coxdev_(eta, \n",
    "                          weight))"
   ]
  },
  {
   "cell_type": "code",
   "execution_count": 344,
   "id": "69a6c633-6229-4057-b9a1-7511f7bf223b",
   "metadata": {},
   "outputs": [
    {
     "name": "stdout",
     "output_type": "stream",
     "text": [
      "   user  system elapsed \n",
      "  0.032   0.000   0.032 \n"
     ]
    }
   ],
   "source": [
    "D_R, G_R, H_R = get_R_result(event, status, None, eta, weight)"
   ]
  },
  {
   "cell_type": "code",
   "execution_count": 345,
   "id": "85b67f38-f1f3-4f9e-a06f-9a1083e8a434",
   "metadata": {},
   "outputs": [
    {
     "data": {
      "text/plain": [
       "array([3.55271368e-15])"
      ]
     },
     "execution_count": 345,
     "metadata": {},
     "output_type": "execute_result"
    }
   ],
   "source": [
    "np.fabs(dev_ - D_R)"
   ]
  },
  {
   "cell_type": "code",
   "execution_count": 346,
   "id": "dfee3b61-5c59-49e4-a79a-c9bad165848f",
   "metadata": {},
   "outputs": [
    {
     "data": {
      "text/plain": [
       "3.745301880125083e-17"
      ]
     },
     "execution_count": 346,
     "metadata": {},
     "output_type": "execute_result"
    }
   ],
   "source": [
    "np.linalg.norm(G_-G_R) / np.linalg.norm(G)"
   ]
  },
  {
   "cell_type": "code",
   "execution_count": 347,
   "id": "4e3d3349-f9ef-4cbe-922d-8342964f552a",
   "metadata": {},
   "outputs": [
    {
     "data": {
      "text/plain": [
       "0.0"
      ]
     },
     "execution_count": 347,
     "metadata": {},
     "output_type": "execute_result"
    }
   ],
   "source": [
    "np.linalg.norm(H_-H_R) / np.linalg.norm(H)"
   ]
  },
  {
   "cell_type": "markdown",
   "id": "8677d19a-1685-4d5e-a88a-a42175293468",
   "metadata": {},
   "source": [
    "## Efron's tie breaking"
   ]
  },
  {
   "cell_type": "code",
   "execution_count": 48,
   "id": "3e00a081-457e-4fe7-88dd-3c1c842b6f70",
   "metadata": {
    "scrolled": true
   },
   "outputs": [
    {
     "name": "stdout",
     "output_type": "stream",
     "text": [
      "40.4 ms ± 712 µs per loop (mean ± std. dev. of 7 runs, 10 loops each)\n"
     ]
    }
   ],
   "source": [
    "%%timeit\n",
    "coxdev_ = CoxDeviance(event,\n",
    "                      status,\n",
    "                      tie_breaking='efron')\n",
    "loglik_sat, dev, G, H, _  = astuple(coxdev_(eta, weight))\n",
    "[coxdev_(rng.standard_normal(eta.shape), weight) for _ in range(400)]"
   ]
  },
  {
   "cell_type": "markdown",
   "id": "8c1f68be-7463-4c57-af26-fb4a1c337165",
   "metadata": {},
   "source": [
    "### With start time"
   ]
  },
  {
   "cell_type": "code",
   "execution_count": 49,
   "id": "26c0e547-a6a5-431b-8576-8f67600297e0",
   "metadata": {},
   "outputs": [
    {
     "name": "stdout",
     "output_type": "stream",
     "text": [
      "42.6 ms ± 940 µs per loop (mean ± std. dev. of 7 runs, 10 loops each)\n"
     ]
    }
   ],
   "source": [
    "%%timeit\n",
    "coxdev_ = CoxDeviance(event,\n",
    "                      status,\n",
    "                      start=start,\n",
    "                      tie_breaking='efron')\n",
    "loglik_sat, dev, G, H, _ = astuple(coxdev_(eta, weight))\n",
    "[coxdev_(rng.standard_normal(eta.shape), weight) for _ in range(400)]"
   ]
  },
  {
   "cell_type": "markdown",
   "id": "6d9e573a-8d92-4b09-8350-20f9b0b765cc",
   "metadata": {},
   "source": [
    "## See if we can find an exception when `first_start != start_map`"
   ]
  },
  {
   "cell_type": "code",
   "execution_count": 50,
   "id": "28e75787-1d7a-4ecc-8403-e59923b0e427",
   "metadata": {},
   "outputs": [],
   "source": [
    "ties = True\n",
    "n, nsim = 10, 2000\n",
    "\n",
    "for _ in range(nsim):\n",
    "    rng = np.random.default_rng(0)\n",
    "    start = rng.integers(0, 5, size=n) \n",
    "    event = start + rng.integers(0, 5, size=n) + ties + (1 - ties) * rng.standard_exponential(n) * 0.01\n",
    "    status = rng.choice([0,1], size=n, replace=True)\n",
    "    weight = rng.uniform(1, 2, size=n)\n",
    "    eta = rng.standard_normal(n)\n",
    "    coxdev_ = CoxDeviance(event,\n",
    "                          status,\n",
    "                          start=start)\n",
    "    coxdev_(eta, weight)"
   ]
  },
  {
   "cell_type": "code",
   "execution_count": 51,
   "id": "24cfd934-0edd-4431-8549-38bcf01139ed",
   "metadata": {},
   "outputs": [],
   "source": [
    "n = 1000\n",
    "\n",
    "for _ in range(nsim):\n",
    "    rng = np.random.default_rng(0)\n",
    "    start = rng.integers(0, 5, size=n) \n",
    "    event = start + rng.integers(0, 5, size=n) + ties + (1 - ties) * rng.standard_exponential(n) * 0.01\n",
    "    status = rng.choice([0,1], size=n, replace=True)\n",
    "    weight = rng.uniform(1, 2, size=n)\n",
    "    eta = rng.standard_normal(n)\n",
    "    coxdev_ = CoxDeviance(event,\n",
    "                          status,\n",
    "                          start=start)\n",
    "    coxdev_(eta, weight)"
   ]
  },
  {
   "cell_type": "code",
   "execution_count": 52,
   "id": "c290282b-21ed-4a86-bf5e-a9a381690ce9",
   "metadata": {},
   "outputs": [],
   "source": [
    "n = 1000\n",
    "ties = False\n",
    "for _ in range(nsim):\n",
    "    rng = np.random.default_rng(0)\n",
    "    start = rng.integers(0, 5, size=n) \n",
    "    event = start + rng.integers(0, 5, size=n) + ties + (1 - ties) * rng.standard_exponential(n) * 0.01\n",
    "    status = rng.choice([0,1], size=n, replace=True)\n",
    "    weight = rng.uniform(1, 2, size=n)\n",
    "    eta = rng.standard_normal(n)\n",
    "    coxdev_ = CoxDeviance(event,\n",
    "                          status,\n",
    "                          start=start)\n",
    "    coxdev_(eta, weight)"
   ]
  },
  {
   "cell_type": "code",
   "execution_count": 53,
   "id": "de1e4819-bf40-46e9-a23c-de243954c033",
   "metadata": {},
   "outputs": [],
   "source": [
    "n = 10\n",
    "ties = False\n",
    "for _ in range(nsim):\n",
    "    rng = np.random.default_rng(0)\n",
    "    start = rng.integers(0, 5, size=n) \n",
    "    event = start + rng.integers(0, 5, size=n) + ties + (1 - ties) * rng.standard_exponential(n) * 0.01\n",
    "    status = rng.choice([0,1], size=n, replace=True)\n",
    "    weight = rng.uniform(1, 2, size=n)\n",
    "    eta = rng.standard_normal(n)\n",
    "    coxdev_ = CoxDeviance(event,\n",
    "                          status,\n",
    "                          start=start)\n",
    "    coxdev_(eta, weight)"
   ]
  },
  {
   "cell_type": "code",
   "execution_count": null,
   "id": "c0647831-5206-4a4d-bf69-c366a09d9f9c",
   "metadata": {},
   "outputs": [],
   "source": []
  },
  {
   "cell_type": "code",
   "execution_count": null,
   "id": "ea35dbe7-83ef-404a-ad31-9d95b04e675b",
   "metadata": {},
   "outputs": [],
   "source": []
  }
 ],
 "metadata": {
  "jupytext": {
   "formats": "ipynb,md:myst"
  },
  "kernelspec": {
   "display_name": "Python 3 (ipykernel)",
   "language": "python",
   "name": "python3"
  },
  "language_info": {
   "codemirror_mode": {
    "name": "ipython",
    "version": 3
   },
   "file_extension": ".py",
   "mimetype": "text/x-python",
   "name": "python",
   "nbconvert_exporter": "python",
   "pygments_lexer": "ipython3",
   "version": "3.10.12"
  }
 },
 "nbformat": 4,
 "nbformat_minor": 5
}
